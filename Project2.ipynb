{
 "cells": [
  {
   "cell_type": "code",
   "execution_count": 1,
   "metadata": {
    "deletable": false,
    "editable": false
   },
   "outputs": [],
   "source": [
    "# Initialize Otter\n",
    "import otter\n",
    "grader = otter.Notebook(\"project2.ipynb\")"
   ]
  },
  {
   "cell_type": "markdown",
   "metadata": {},
   "source": [
    "<img style=\"display: block; margin-left: auto; margin-right: auto\" src=\"./ccsf-logo.png\" width=\"250rem;\" alt=\"The CCSF black and white logo\">"
   ]
  },
  {
   "cell_type": "markdown",
   "metadata": {},
   "source": [
    "<div style=\"text-align: center;\">\n",
    "    <h1>Project 2: Cardiovascular Disease</h1>\n",
    "    <em>View the related <a href=\"https://ccsf.instructure.com\" target=\"_blank\">Canvas</a> Assignment page for additional details.</em>\n",
    "</div>"
   ]
  },
  {
   "cell_type": "markdown",
   "metadata": {},
   "source": [
    "In this project, you will investigate cardiovascular disease, which is a major causes of death in the world."
   ]
  },
  {
   "cell_type": "code",
   "execution_count": 2,
   "metadata": {
    "tags": []
   },
   "outputs": [],
   "source": [
    "from datascience import *\n",
    "import numpy as np\n",
    "%matplotlib inline\n",
    "import matplotlib.pyplot as plots\n",
    "plots.style.use('fivethirtyeight')\n",
    "np.set_printoptions(legacy='1.13')\n",
    "import warnings\n",
    "warnings.simplefilter('ignore', FutureWarning)\n",
    "warnings.simplefilter('ignore', UserWarning)"
   ]
  },
  {
   "cell_type": "markdown",
   "metadata": {},
   "source": [
    "In the following analysis, we will investigate the world's most dangerous killer: Cardiovascular Disease. Your investigation will take you across decades of medical research, and you'll look at multiple causes and effects across four different studies."
   ]
  },
  {
   "cell_type": "markdown",
   "metadata": {},
   "source": [
    "Here is a roadmap for this project:\n",
    "\n",
    "* In Part 1, we'll investigate the major causes of death in the world during the past century (from 1900 to 2015).\n",
    "* In Part 2, we'll look at data from the Framingham Heart Study, an observational study into cardiovascular health.\n",
    "* In Part 3, we'll examine the effect that hormone replacement therapy has on the risk of coronary heart disease for post-menopausal women using data from the Nurses' Heart Study and Heart and Estrogen-Progestin Replacement Study.\n",
    "* In Part 4, we'll explore the effect that the consumption of saturated fats has on cardiovascular death rates using data from the National Heart-Diet Study"
   ]
  },
  {
   "cell_type": "markdown",
   "metadata": {},
   "source": [
    "## 🤔 Part 1: Causes of Death "
   ]
  },
  {
   "cell_type": "markdown",
   "metadata": {},
   "source": [
    "In order to get a better idea of how we can most effectively prevent deaths, we need to first figure out what the major causes of death are. Run the following cell to read in and view the `causes_of_death` table, which documents the death rate for major causes of deaths over the last century (1900 until 2015)."
   ]
  },
  {
   "cell_type": "code",
   "execution_count": 3,
   "metadata": {
    "tags": []
   },
   "outputs": [
    {
     "data": {
      "text/html": [
       "<table border=\"1\" class=\"dataframe\">\n",
       "    <thead>\n",
       "        <tr>\n",
       "            <th>Year</th> <th>Cause</th> <th>Age Adjusted Death Rate</th>\n",
       "        </tr>\n",
       "    </thead>\n",
       "    <tbody>\n",
       "        <tr>\n",
       "            <td>2015</td> <td>Heart Disease          </td> <td>168.5                  </td>\n",
       "        </tr>\n",
       "        <tr>\n",
       "            <td>2015</td> <td>Cancer                 </td> <td>158.5                  </td>\n",
       "        </tr>\n",
       "        <tr>\n",
       "            <td>2015</td> <td>Stroke                 </td> <td>37.6                   </td>\n",
       "        </tr>\n",
       "        <tr>\n",
       "            <td>2015</td> <td>Accidents              </td> <td>43.2                   </td>\n",
       "        </tr>\n",
       "        <tr>\n",
       "            <td>2015</td> <td>Influenza and Pneumonia</td> <td>15.2                   </td>\n",
       "        </tr>\n",
       "    </tbody>\n",
       "</table>\n",
       "<p>... (575 rows omitted)</p>"
      ],
      "text/plain": [
       "<IPython.core.display.HTML object>"
      ]
     },
     "metadata": {},
     "output_type": "display_data"
    }
   ],
   "source": [
    "causes_of_death = Table.read_table('causes_of_death.csv')\n",
    "causes_of_death.show(5)"
   ]
  },
  {
   "cell_type": "markdown",
   "metadata": {},
   "source": [
    "Each entry in the column **Age Adjusted Death Rate** is a death rate for a specific **Year** and **Cause** of death. \n",
    "\n",
    "If we look at unadjusted data, the age distributions of each sample will influence death rates. In an older population, we would expect death rates to be higher for all causes since old age is associated with higher risk of death. To compare death rates without worrying about differences in the demographics of our populations, we adjust the data for age.\n",
    "\n",
    "The **Age Adjusted** specification in the death rate column tells us that the values shown are the death rates that would have existed if the population under study in a specific year had the same age distribution as the \"standard\" population, a baseline. \n",
    "\n",
    "You aren't responsible for knowing how to do this adjustment, but should understand why we adjust for age and what the consequences of working with unadjusted data would be. "
   ]
  },
  {
   "cell_type": "markdown",
   "metadata": {},
   "source": [
    "### Task 1.1. 📍"
   ]
  },
  {
   "cell_type": "markdown",
   "metadata": {},
   "source": [
    "What are all the different causes of death in this dataset? Assign an array of all the unique causes of death to `all_unique_causes`.\n",
    "\n",
    "\n",
    "\n",
    "_Points:_ 2"
   ]
  },
  {
   "cell_type": "code",
   "execution_count": 4,
   "metadata": {
    "manual_problem_id": "part_1_unique_causes",
    "tags": []
   },
   "outputs": [
    {
     "data": {
      "text/plain": [
       "['Accidents', 'Cancer', 'Heart Disease', 'Influenza and Pneumonia', 'Stroke']"
      ]
     },
     "execution_count": 4,
     "metadata": {},
     "output_type": "execute_result"
    }
   ],
   "source": [
    "all_unique_causes =causes_of_death.group(1).column(0)\n",
    "sorted(all_unique_causes)"
   ]
  },
  {
   "cell_type": "code",
   "execution_count": 5,
   "metadata": {
    "deletable": false,
    "editable": false
   },
   "outputs": [
    {
     "data": {
      "text/html": [
       "<p><strong><pre style='display: inline;'>task_1_1</pre></strong> passed!</p><p><strong><pre style='display: inline;'>task_1_1 - 1</pre> message:</strong> ✅ all_unique_causes is an array or list.</p>"
      ],
      "text/plain": [
       "task_1_1 results: All test cases passed!\n",
       "task_1_1 - 1 message: ✅ all_unique_causes is an array or list."
      ]
     },
     "execution_count": 5,
     "metadata": {},
     "output_type": "execute_result"
    }
   ],
   "source": [
    "grader.check(\"task_1_1\")"
   ]
  },
  {
   "cell_type": "markdown",
   "metadata": {},
   "source": [
    "### Task 1.2. 📍"
   ]
  },
  {
   "cell_type": "markdown",
   "metadata": {},
   "source": [
    "We would like to plot the death rate for each disease over time. To do so, we must create a table with one column for each cause and one row for each year.\n",
    "\n",
    "Create a table called `causes_for_plotting`. It should have one column called `Year`, and then a column with age-adjusted death rates for each of the causes you found in Task 1. There should be as many of these columns in `causes_for_plotting` as there are causes in Task 1.\n",
    "\n",
    "*Hint*: Use `pivot`, and think about how the `first` function might be useful in getting the **Age Adjusted Death Rate** for each cause and year combination.\n",
    "\n",
    "\n",
    "_Points:_ 2"
   ]
  },
  {
   "cell_type": "code",
   "execution_count": 6,
   "metadata": {
    "tags": []
   },
   "outputs": [],
   "source": [
    "# This function may be useful for Task 2.\n",
    "def first(x):\n",
    "    return x.item(0)"
   ]
  },
  {
   "cell_type": "code",
   "execution_count": 7,
   "metadata": {
    "for_assignment_type": "student",
    "manual_problem_id": "part_1_plot_causes",
    "tags": []
   },
   "outputs": [
    {
     "data": {
      "text/html": [
       "<table border=\"1\" class=\"dataframe\">\n",
       "    <thead>\n",
       "        <tr>\n",
       "            <th>Year</th> <th>Accidents</th> <th>Cancer</th> <th>Heart Disease</th> <th>Influenza and Pneumonia</th> <th>Stroke</th>\n",
       "        </tr>\n",
       "    </thead>\n",
       "    <tbody>\n",
       "        <tr>\n",
       "            <td>1900</td> <td>90.3     </td> <td>114.8 </td> <td>265.4        </td> <td>297.5                  </td> <td>244.2 </td>\n",
       "        </tr>\n",
       "        <tr>\n",
       "            <td>1901</td> <td>109.3    </td> <td>118.1 </td> <td>272.6        </td> <td>312.9                  </td> <td>243.6 </td>\n",
       "        </tr>\n",
       "        <tr>\n",
       "            <td>1902</td> <td>93.6     </td> <td>119.7 </td> <td>285.2        </td> <td>219.3                  </td> <td>237.8 </td>\n",
       "        </tr>\n",
       "        <tr>\n",
       "            <td>1903</td> <td>106.9    </td> <td>125.2 </td> <td>304.5        </td> <td>251.1                  </td> <td>244.6 </td>\n",
       "        </tr>\n",
       "        <tr>\n",
       "            <td>1904</td> <td>112.8    </td> <td>127.9 </td> <td>331.5        </td> <td>291.2                  </td> <td>255.2 </td>\n",
       "        </tr>\n",
       "    </tbody>\n",
       "</table>\n",
       "<p>... (111 rows omitted)</p>"
      ],
      "text/plain": [
       "<IPython.core.display.HTML object>"
      ]
     },
     "metadata": {},
     "output_type": "display_data"
    }
   ],
   "source": [
    "causes_for_plotting = causes_of_death.pivot(1,0,2,first)\n",
    "causes_for_plotting.show(5)"
   ]
  },
  {
   "cell_type": "code",
   "execution_count": 8,
   "metadata": {
    "deletable": false,
    "editable": false
   },
   "outputs": [
    {
     "data": {
      "text/html": [
       "<p><strong><pre style='display: inline;'>task_1_2</pre></strong> passed!</p><p><strong><pre style='display: inline;'>task_1_2 - 1</pre> message:</strong> ✅ Your table has the right column labels.</p><p><strong><pre style='display: inline;'>task_1_2 - 2</pre> message:</strong> ✅ Your table has the right number of rows.</p>"
      ],
      "text/plain": [
       "task_1_2 results: All test cases passed!\n",
       "task_1_2 - 1 message: ✅ Your table has the right column labels.\n",
       "task_1_2 - 2 message: ✅ Your table has the right number of rows."
      ]
     },
     "execution_count": 8,
     "metadata": {},
     "output_type": "execute_result"
    }
   ],
   "source": [
    "grader.check(\"task_1_2\")"
   ]
  },
  {
   "cell_type": "markdown",
   "metadata": {},
   "source": [
    "Let's take a look at how age-adjusted death rates have changed across different causes over time. Run the cell below to compare Heart Disease (a chronic disease) and Influenza and Pneumonia (infectious diseases)."
   ]
  },
  {
   "cell_type": "code",
   "execution_count": 9,
   "metadata": {},
   "outputs": [
    {
     "data": {
      "image/png": "[encoded data removed]",
      "text/plain": [
       "<Figure size 600x600 with 1 Axes>"
      ]
     },
     "metadata": {},
     "output_type": "display_data"
    }
   ],
   "source": [
    "causes_for_plotting.select('Year', \"Heart Disease\", \"Influenza and Pneumonia\").plot('Year')"
   ]
  },
  {
   "cell_type": "markdown",
   "metadata": {},
   "source": [
    "### Task 1.3. 📍"
   ]
  },
  {
   "cell_type": "markdown",
   "metadata": {},
   "source": [
    "Beginning in 1900 and continuing until 1950, we observe that death rates for Influenza and Pneumonia decrease while death rates for Heart Disease increase. What might have caused this shift?\n",
    "\n",
    "Assign `disease_trend_explanation` to an array of integers that correspond to possible explanations for these trends.\n",
    "\n",
    "1. People are living longer, allowing more time for chronic conditions to develop. \n",
    "2. A cure has not been discovered for influenza, so people are still dying at high rates from the flu.\n",
    "3. Improvements in sanitation, hygiene, and nutrition have reduced the transmission of viruses and bacteria that cause infectious diseases.\n",
    "4. People are more active, putting them at lower risk for conditions like heart disease and diabetes.\n",
    "5. Widespread adoption of vaccinations has reduced rates of infectious disease.\n",
    "6. The medical community has became more aware of chronic conditions, leading to more people being diagnosed with heart disease.\n",
    "\n",
    "*Hint:* Consider what contributes to the development of these diseases. What decreases the transmission of infections? Why do we see more lifestyle-related conditions like heart disease?\n",
    "\n",
    "\n",
    "_Points:_ 2"
   ]
  },
  {
   "cell_type": "code",
   "execution_count": 10,
   "metadata": {
    "tags": []
   },
   "outputs": [
    {
     "data": {
      "text/plain": [
       "array([1, 3, 5, 6])"
      ]
     },
     "execution_count": 10,
     "metadata": {},
     "output_type": "execute_result"
    }
   ],
   "source": [
    "disease_trend_explanation = make_array(1,3,5,6)\n",
    "disease_trend_explanation"
   ]
  },
  {
   "cell_type": "code",
   "execution_count": 11,
   "metadata": {
    "deletable": false,
    "editable": false
   },
   "outputs": [
    {
     "data": {
      "text/html": [
       "<p><strong><pre style='display: inline;'>task_1_3</pre></strong> passed!</p><p><strong><pre style='display: inline;'>task_1_3 - 1</pre> message:</strong> ✅ All the values in disease_trend_explanation are between 1 and 6, inclusive.</p>"
      ],
      "text/plain": [
       "task_1_3 results: All test cases passed!\n",
       "task_1_3 - 1 message: ✅ All the values in disease_trend_explanation are between 1 and 6, inclusive."
      ]
     },
     "execution_count": 11,
     "metadata": {},
     "output_type": "execute_result"
    }
   ],
   "source": [
    "grader.check(\"task_1_3\")"
   ]
  },
  {
   "cell_type": "markdown",
   "metadata": {},
   "source": [
    "This phenomenon is known as the epidemiological transition - in developed countries, the severity of infectious disease has decreased, but chronic disease has become more widespread. Coronary heart disease (CHD) is one of the most deadly chronic diseases that has emerged in the past century, and more healthcare resources have been invested to studying it.\n",
    "\n",
    "Run the cell below to see what a plot of the data would have looked like had you been living in 1950. CHD was the leading cause of death and had killed millions of people without warning. It had become twice as lethal in just a few decades and people didn't understand why this was happening."
   ]
  },
  {
   "cell_type": "code",
   "execution_count": 12,
   "metadata": {},
   "outputs": [
    {
     "data": {
      "image/png": "[encoded data removed]",
      "text/plain": [
       "<Figure size 600x600 with 1 Axes>"
      ]
     },
     "metadata": {},
     "output_type": "display_data"
    }
   ],
   "source": [
    "# Do not change this line\n",
    "causes_for_plotting.where('Year', are.below_or_equal_to(1950)).plot('Year')"
   ]
  },
  {
   "cell_type": "markdown",
   "metadata": {},
   "source": [
    "The view from 2016 looks a lot less scary, however, since we know it eventually went down. The decline in CHD deaths is one of the greatest public health triumphs of the last half century. That decline represents many millions of saved lives, and it was not inevitable. The Framingham Heart Study, in particular, was the first to discover the associations between heart disease and risk factors like smoking, high cholesterol, high blood pressure, obesity, and lack of exercise."
   ]
  },
  {
   "cell_type": "code",
   "execution_count": 13,
   "metadata": {
    "for_assignment_type": "solution"
   },
   "outputs": [
    {
     "data": {
      "image/png": "[encoded data removed]",
      "text/plain": [
       "<Figure size 600x600 with 1 Axes>"
      ]
     },
     "metadata": {},
     "output_type": "display_data"
    }
   ],
   "source": [
    "# Do not change this line\n",
    "causes_for_plotting.plot('Year')"
   ]
  },
  {
   "cell_type": "markdown",
   "metadata": {},
   "source": [
    "Let's examine the graph above. You'll see that in the 1960s, the death rate due to heart disease steadily declines. Up until then, the effects of smoking, blood pressure, and diet on the cardiovascular system were unknown to researchers. Once these factors started to be noticed, doctors were able recommend a lifestyle change for at-risk patients to prevent heart attacks and heart problems.\n",
    "\n",
    "Note, however, that the death rate for heart disease is still higher than the death rates of all other causes. Even though the death rate is starkly decreasing, there's still a lot we don't understand about the causes (both direct and indirect) of heart disease."
   ]
  },
  {
   "cell_type": "markdown",
   "metadata": {},
   "source": [
    "## 🗓️ Part 2: The Framingham Heart Study"
   ]
  },
  {
   "cell_type": "markdown",
   "metadata": {},
   "source": [
    "The [Framingham Heart Study](https://en.wikipedia.org/wiki/Framingham_Heart_Study) is an observational study of cardiovascular health. The initial study followed over 5,000 volunteers for several decades, and followup studies even looked at their descendants. In this section, we'll investigate some of the study's key findings about cholesterol and heart disease.\n",
    "\n",
    "Run the cell below to examine data for 3842 subjects from the first wave of the study, collected in 1956."
   ]
  },
  {
   "cell_type": "code",
   "execution_count": 14,
   "metadata": {},
   "outputs": [
    {
     "data": {
      "text/html": [
       "<table border=\"1\" class=\"dataframe\">\n",
       "    <thead>\n",
       "        <tr>\n",
       "            <th>AGE</th> <th>SYSBP</th> <th>DIABP</th> <th>TOTCHOL</th> <th>CURSMOKE</th> <th>DIABETES</th> <th>GLUCOSE</th> <th>DEATH</th> <th>ANYCHD</th>\n",
       "        </tr>\n",
       "    </thead>\n",
       "    <tbody>\n",
       "        <tr>\n",
       "            <td>39  </td> <td>106  </td> <td>70   </td> <td>195    </td> <td>0       </td> <td>0       </td> <td>77     </td> <td>0    </td> <td>1     </td>\n",
       "        </tr>\n",
       "        <tr>\n",
       "            <td>46  </td> <td>121  </td> <td>81   </td> <td>250    </td> <td>0       </td> <td>0       </td> <td>76     </td> <td>0    </td> <td>0     </td>\n",
       "        </tr>\n",
       "        <tr>\n",
       "            <td>48  </td> <td>127.5</td> <td>80   </td> <td>245    </td> <td>1       </td> <td>0       </td> <td>70     </td> <td>0    </td> <td>0     </td>\n",
       "        </tr>\n",
       "        <tr>\n",
       "            <td>61  </td> <td>150  </td> <td>95   </td> <td>225    </td> <td>1       </td> <td>0       </td> <td>103    </td> <td>1    </td> <td>0     </td>\n",
       "        </tr>\n",
       "        <tr>\n",
       "            <td>46  </td> <td>130  </td> <td>84   </td> <td>285    </td> <td>1       </td> <td>0       </td> <td>85     </td> <td>0    </td> <td>0     </td>\n",
       "        </tr>\n",
       "        <tr>\n",
       "            <td>43  </td> <td>180  </td> <td>110  </td> <td>228    </td> <td>0       </td> <td>0       </td> <td>99     </td> <td>0    </td> <td>1     </td>\n",
       "        </tr>\n",
       "        <tr>\n",
       "            <td>63  </td> <td>138  </td> <td>71   </td> <td>205    </td> <td>0       </td> <td>0       </td> <td>85     </td> <td>0    </td> <td>1     </td>\n",
       "        </tr>\n",
       "        <tr>\n",
       "            <td>45  </td> <td>100  </td> <td>71   </td> <td>313    </td> <td>1       </td> <td>0       </td> <td>78     </td> <td>0    </td> <td>0     </td>\n",
       "        </tr>\n",
       "        <tr>\n",
       "            <td>52  </td> <td>141.5</td> <td>89   </td> <td>260    </td> <td>0       </td> <td>0       </td> <td>79     </td> <td>0    </td> <td>0     </td>\n",
       "        </tr>\n",
       "        <tr>\n",
       "            <td>43  </td> <td>162  </td> <td>107  </td> <td>225    </td> <td>1       </td> <td>0       </td> <td>88     </td> <td>0    </td> <td>0     </td>\n",
       "        </tr>\n",
       "    </tbody>\n",
       "</table>\n",
       "<p>... (3832 rows omitted)</p>"
      ],
      "text/plain": [
       "AGE  | SYSBP | DIABP | TOTCHOL | CURSMOKE | DIABETES | GLUCOSE | DEATH | ANYCHD\n",
       "39   | 106   | 70    | 195     | 0        | 0        | 77      | 0     | 1\n",
       "46   | 121   | 81    | 250     | 0        | 0        | 76      | 0     | 0\n",
       "48   | 127.5 | 80    | 245     | 1        | 0        | 70      | 0     | 0\n",
       "61   | 150   | 95    | 225     | 1        | 0        | 103     | 1     | 0\n",
       "46   | 130   | 84    | 285     | 1        | 0        | 85      | 0     | 0\n",
       "43   | 180   | 110   | 228     | 0        | 0        | 99      | 0     | 1\n",
       "63   | 138   | 71    | 205     | 0        | 0        | 85      | 0     | 1\n",
       "45   | 100   | 71    | 313     | 1        | 0        | 78      | 0     | 0\n",
       "52   | 141.5 | 89    | 260     | 0        | 0        | 79      | 0     | 0\n",
       "43   | 162   | 107   | 225     | 1        | 0        | 88      | 0     | 0\n",
       "... (3832 rows omitted)"
      ]
     },
     "execution_count": 14,
     "metadata": {},
     "output_type": "execute_result"
    }
   ],
   "source": [
    "framingham = Table.read_table('framingham.csv')\n",
    "framingham"
   ]
  },
  {
   "cell_type": "markdown",
   "metadata": {},
   "source": [
    "Each row contains data from one subject. The first seven columns describe the subject at the time of their initial medical exam at the start of the study. The last column, `ANYCHD`, tells us whether the subject developed some form of heart disease at any point after the start of the study.\n",
    "\n",
    "You may have noticed that the table contains fewer rows than subjects in the original study - we are excluding subjects who already had heart disease or had missing data."
   ]
  },
  {
   "cell_type": "markdown",
   "metadata": {},
   "source": [
    "### Section 1: Diabetes and the Population"
   ]
  },
  {
   "cell_type": "markdown",
   "metadata": {},
   "source": [
    "Before we begin our investigation into cholesterol, we'll first look at some limitations of this dataset. In particular, we will investigate ways in which this is or isn't a representative sample of the population by examining the number of subjects with diabetes.\n",
    "\n",
    "[According to the CDC](https://www.cdc.gov/diabetes/statistics/slides/long_term_trends.pdf), the prevalence of diagnosed diabetes (i.e., the percentage of the population who have it) in the U.S. around this time was 0.93%. We are going to conduct a hypothesis test with the following null and alternative hypotheses:\n",
    "\n",
    "**Null Hypothesis**: The probability that a participant within the Framingham Study has diabetes is equivalent to the prevalence of diagnosed diabetes within the population. (i.e., any difference is due to chance).\n",
    "\n",
    "**Alternative Hypothesis**: The probability that a participant within the Framingham Study has diabetes is different than the prevalence of diagnosed diabetes within the population.\n",
    "\n",
    "We are going to use the **absolute distance between the observed prevalence and the true population prevalence as our test statistic**. The column `DIABETES` in the `framingham` table contains a 1 for subjects with diabetes and a `0` for those without."
   ]
  },
  {
   "cell_type": "markdown",
   "metadata": {},
   "source": [
    "#### Task 2.1.1. 📍"
   ]
  },
  {
   "cell_type": "markdown",
   "metadata": {},
   "source": [
    "What is the observed value of the statistic in the data from the Framingham Study? You should convert prevalence values to proportions before calculating the statistic!\n",
    "\n",
    "\n",
    "_Points:_ 2"
   ]
  },
  {
   "cell_type": "code",
   "execution_count": 15,
   "metadata": {
    "for_assignment_type": "solution",
    "tags": []
   },
   "outputs": [
    {
     "data": {
      "text/plain": [
       "0.01802951587714732"
      ]
     },
     "execution_count": 15,
     "metadata": {},
     "output_type": "execute_result"
    }
   ],
   "source": [
    "observed_db_prevalence=np.count_nonzero(framingham.column(5))/len(framingham.column(5))\n",
    "observed_diabetes_distance = abs((np.count_nonzero(framingham.column(5))/len(framingham.column(5)))-0.0093)\n",
    "observed_diabetes_distance"
   ]
  },
  {
   "cell_type": "code",
   "execution_count": 16,
   "metadata": {
    "deletable": false,
    "editable": false
   },
   "outputs": [
    {
     "data": {
      "text/html": [
       "<p><strong><pre style='display: inline;'>task_2_1_1</pre></strong> passed!</p><p><strong><pre style='display: inline;'>task_2_1_1 - 1</pre> message:</strong> ✅ observed_diabetes_distance is between -1 and 1, inclusive.</p>"
      ],
      "text/plain": [
       "task_2_1_1 results: All test cases passed!\n",
       "task_2_1_1 - 1 message: ✅ observed_diabetes_distance is between -1 and 1, inclusive."
      ]
     },
     "execution_count": 16,
     "metadata": {},
     "output_type": "execute_result"
    }
   ],
   "source": [
    "grader.check(\"task_2_1_1\")"
   ]
  },
  {
   "cell_type": "markdown",
   "metadata": {},
   "source": [
    "#### Task 2.1.2. 📍"
   ]
  },
  {
   "cell_type": "markdown",
   "metadata": {},
   "source": [
    "Define the function `diabetes_statistic` which should return exactly one simulated statistic of the absolute distance between the observed prevalence and the true population prevalence under the null hypothesis. Make sure that your simulated sample is the same size as your original sample.\n",
    "\n",
    "*Hint:* The array `diabetes_proportions` contains the proportions of the population without and with diabetes, respectively.\n",
    "\n",
    "\n",
    "_Points:_ 2"
   ]
  },
  {
   "cell_type": "code",
   "execution_count": 17,
   "metadata": {
    "tags": []
   },
   "outputs": [],
   "source": [
    "diabetes_proportions = make_array(0.9907, 0.0093)\n",
    "subjects=len(framingham.column(5))\n",
    "def diabetes_statistic():\n",
    "    sim=sample_proportions(subjects,diabetes_proportions)\n",
    "    return abs(sim.item(1)-0.0093)"
   ]
  },
  {
   "cell_type": "code",
   "execution_count": 18,
   "metadata": {
    "deletable": false,
    "editable": false
   },
   "outputs": [
    {
     "data": {
      "text/html": [
       "<p><strong><pre style='display: inline;'>task_2_1_2</pre></strong> passed!</p><p><strong><pre style='display: inline;'>task_2_1_2 - 1</pre> message:</strong> ✅ diabetes_statistic() returns a float.</p>"
      ],
      "text/plain": [
       "task_2_1_2 results: All test cases passed!\n",
       "task_2_1_2 - 1 message: ✅ diabetes_statistic() returns a float."
      ]
     },
     "execution_count": 18,
     "metadata": {},
     "output_type": "execute_result"
    }
   ],
   "source": [
    "grader.check(\"task_2_1_2\")"
   ]
  },
  {
   "cell_type": "markdown",
   "metadata": {},
   "source": [
    "#### Task 2.1.3. 📍"
   ]
  },
  {
   "cell_type": "markdown",
   "metadata": {},
   "source": [
    "Complete the following code to simulate 5000 values of the statistic under the null hypothesis.\n",
    "\n",
    "\n",
    "_Points:_ 1"
   ]
  },
  {
   "cell_type": "code",
   "execution_count": 19,
   "metadata": {
    "for_assignment_type": "solution",
    "tags": []
   },
   "outputs": [
    {
     "data": {
      "text/plain": [
       "array([  1.90161374e-04,   7.01197293e-05,   1.90161374e-04, ...,\n",
       "         1.49156689e-03,   8.50963040e-04,   2.15236856e-03])"
      ]
     },
     "execution_count": 19,
     "metadata": {},
     "output_type": "execute_result"
    }
   ],
   "source": [
    "diabetes_simulated_stats = make_array()\n",
    "\n",
    "for i in np.arange(5000): \n",
    "    one_diff=diabetes_statistic()\n",
    "    diabetes_simulated_stats=np.append(diabetes_simulated_stats,one_diff)\n",
    "    \n",
    "diabetes_simulated_stats"
   ]
  },
  {
   "cell_type": "code",
   "execution_count": 20,
   "metadata": {
    "deletable": false,
    "editable": false
   },
   "outputs": [
    {
     "data": {
      "text/html": [
       "<p><strong><pre style='display: inline;'>task_2_1_3</pre></strong> passed!</p><p><strong><pre style='display: inline;'>task_2_1_3 - 1</pre> message:</strong> ✅ diabetes_simulated_stats has 5000 items.</p>"
      ],
      "text/plain": [
       "task_2_1_3 results: All test cases passed!\n",
       "task_2_1_3 - 1 message: ✅ diabetes_simulated_stats has 5000 items."
      ]
     },
     "execution_count": 20,
     "metadata": {},
     "output_type": "execute_result"
    }
   ],
   "source": [
    "grader.check(\"task_2_1_3\")"
   ]
  },
  {
   "cell_type": "markdown",
   "metadata": {},
   "source": [
    "#### Task 2.1.4. 📍🔎"
   ]
  },
  {
   "cell_type": "markdown",
   "metadata": {},
   "source": [
    "<!-- BEGIN QUESTION -->\n",
    "\n",
    "Run the following cell to generate a histogram of the simulated values of your statistic, along with the observed value.\n",
    "\n",
    "*If you're not sure if your histogram is correct, think about how we're generating the sample statistics under the null, and what those statistics will look like*\n",
    "\n",
    "*Make sure to run the cell that draws the histogram, since it will be graded.*\n",
    "\n",
    "\n",
    "_Points:_ 1"
   ]
  },
  {
   "cell_type": "code",
   "execution_count": 21,
   "metadata": {
    "export_pdf": true,
    "tags": []
   },
   "outputs": [
    {
     "data": {
      "image/png": "[encoded data removed]",
      "text/plain": [
       "<Figure size 600x400 with 1 Axes>"
      ]
     },
     "metadata": {},
     "output_type": "display_data"
    }
   ],
   "source": [
    "Table().with_column('Simulated distance to true prevalence', diabetes_simulated_stats).hist()\n",
    "plots.scatter(observed_diabetes_distance, 0, color='red', s=60, zorder=3);"
   ]
  },
  {
   "cell_type": "markdown",
   "metadata": {},
   "source": [
    "<!-- END QUESTION -->\n",
    "\n",
    "#### Task 2.1.5. 📍🔎\n"
   ]
  },
  {
   "cell_type": "markdown",
   "metadata": {},
   "source": [
    "<!-- BEGIN QUESTION -->\n",
    "\n",
    "Based on the histogram above, should you reject the null hypothesis? Provide a yes/no response and briefly explain your reasoning.\n",
    "\n",
    "\n",
    "_Points:_ 2"
   ]
  },
  {
   "cell_type": "markdown",
   "metadata": {},
   "source": [
    "Reject the null hypothesis because observed value is significantly different from simulated random subject selection. It is unlikely that random chance produced this sample selection with this prevalence of diabetes."
   ]
  },
  {
   "cell_type": "markdown",
   "metadata": {},
   "source": [
    "<!-- END QUESTION -->\n",
    "\n",
    "#### Task 2.1.6. 📍"
   ]
  },
  {
   "cell_type": "markdown",
   "metadata": {},
   "source": [
    "Why might there be a difference between the population and the sample from the Framingham Study? Assuming that all these statements are true - what are possible explanations for the higher diabetes prevalence in the Framingham population?\n",
    "\n",
    "Assign the name `framingham_diabetes_explanations` to an array of the following explanations that **are consistent** with the trends we observe in the data and our hypothesis test results. \n",
    "\n",
    "1. Diabetes was under-diagnosed in the population (i.e., there were a lot of people in the population who had diabetes but weren't diagnosed). By contrast, the Framingham participants were less likely to go undiagnosed because they had regular medical examinations as part of the study.\n",
    "2. The Framingham Study subjects were older on average than the general population, and therefore more likely to have diabetes.\n",
    "\n",
    "\n",
    "_Points:_ 2"
   ]
  },
  {
   "cell_type": "code",
   "execution_count": 22,
   "metadata": {
    "manual_problem_id": "part_2_explanations",
    "tags": []
   },
   "outputs": [
    {
     "data": {
      "text/plain": [
       "array([1, 2])"
      ]
     },
     "execution_count": 22,
     "metadata": {},
     "output_type": "execute_result"
    }
   ],
   "source": [
    "framingham_diabetes_explanations = make_array(1,2)\n",
    "framingham_diabetes_explanations"
   ]
  },
  {
   "cell_type": "code",
   "execution_count": 23,
   "metadata": {
    "deletable": false,
    "editable": false
   },
   "outputs": [
    {
     "data": {
      "text/html": [
       "<p><strong><pre style='display: inline;'>task_2_1_6</pre></strong> passed!</p><p><strong><pre style='display: inline;'>task_2_1_6 - 1</pre> message:</strong> ✅ framingham_diabetes_explanations is an array.</p>"
      ],
      "text/plain": [
       "task_2_1_6 results: All test cases passed!\n",
       "task_2_1_6 - 1 message: ✅ framingham_diabetes_explanations is an array."
      ]
     },
     "execution_count": 23,
     "metadata": {},
     "output_type": "execute_result"
    }
   ],
   "source": [
    "grader.check(\"task_2_1_6\")"
   ]
  },
  {
   "cell_type": "markdown",
   "metadata": {},
   "source": [
    "In real-world studies, getting a truly representative random sample of the population is often incredibly difficult. Even just to accurately represent all Americans, a truly random sample would need to examine people across geographical, socioeconomic, community, and class lines (just to name a few). For a study like this, scientists would also need to make sure the medical exams were standardized and consistent across the different people being examined. In other words, there's a tradeoff between taking a more representative random sample and the cost of collecting more information from each person in the sample.\n",
    "\n",
    "The Framingham study collected high-quality medical data from its subjects, even if the subjects may not be a perfect representation of the population of all Americans. This is a common issue that data scientists face: while the available data aren't perfect, they're the best we have. The Framingham study is generally considered the best in its class, so we'll continue working with it while keeping its limitations in mind.\n",
    "\n",
    "(For more on representation in medical study samples, you can read these recent articles from [NPR](https://www.npr.org/sections/health-shots/2015/12/16/459666750/clinical-trials-still-dont-reflect-the-diversity-of-america) and [Scientific American](https://www.scientificamerican.com/article/clinical-trials-have-far-too-little-racial-and-ethnic-diversity/))."
   ]
  },
  {
   "cell_type": "markdown",
   "metadata": {},
   "source": [
    "### Section 2: Cholesterol and Heart Disease"
   ]
  },
  {
   "cell_type": "markdown",
   "metadata": {},
   "source": [
    "In the remainder of this question, we are going to examine one of the main findings of the Framingham study: an association between serum cholesterol (i.e., how much cholesterol is in someone's blood) and whether or not that person develops heart disease.\n",
    "\n",
    "We'll use the following null and alternative hypotheses:\n",
    "\n",
    "**Null Hypothesis:** In the population, the distribution of cholesterol levels among those who get heart disease is the same as the distribution of cholesterol levels\n",
    "among those who do not.\n",
    "\n",
    "**Alternative Hypothesis:** The cholesterol levels of people in the population who get\n",
    "heart disease are higher, on average, than the cholesterol level of people who do not."
   ]
  },
  {
   "cell_type": "markdown",
   "metadata": {},
   "source": [
    "#### Task 2.2.1. 📍"
   ]
  },
  {
   "cell_type": "markdown",
   "metadata": {},
   "source": [
    "From the provided Null and Alternative Hypotheses, does it seem reasonable to use A/B Testing to determine which model is more consistent? Assign the variable `ab_reasonable` to `True` if it seems reasonable and `False` otherwise.\n",
    "\n",
    "\n",
    "_Points:_ 2"
   ]
  },
  {
   "cell_type": "code",
   "execution_count": 24,
   "metadata": {
    "manual_problem_id": "part_2_reasonable_test",
    "tags": []
   },
   "outputs": [
    {
     "data": {
      "text/plain": [
       "True"
      ]
     },
     "execution_count": 24,
     "metadata": {},
     "output_type": "execute_result"
    }
   ],
   "source": [
    "ab_reasonable = True\n",
    "ab_reasonable"
   ]
  },
  {
   "cell_type": "code",
   "execution_count": 25,
   "metadata": {
    "deletable": false,
    "editable": false
   },
   "outputs": [
    {
     "data": {
      "text/html": [
       "<p><strong><pre style='display: inline;'>task_2_2_1</pre></strong> passed!</p><p><strong><pre style='display: inline;'>task_2_2_1 - 1</pre> message:</strong> ✅ ab_reasonable represents a possible value.</p>"
      ],
      "text/plain": [
       "task_2_2_1 results: All test cases passed!\n",
       "task_2_2_1 - 1 message: ✅ ab_reasonable represents a possible value."
      ]
     },
     "execution_count": 25,
     "metadata": {},
     "output_type": "execute_result"
    }
   ],
   "source": [
    "grader.check(\"task_2_2_1\")"
   ]
  },
  {
   "cell_type": "markdown",
   "metadata": {},
   "source": [
    "#### Task 2.2.2. 📍🔎"
   ]
  },
  {
   "cell_type": "markdown",
   "metadata": {},
   "source": [
    "<!-- BEGIN QUESTION -->\n",
    "\n",
    "Now that we have a null hypothesis, we need a test statistic. Explain and justify your choice of test statistic in two sentences or less.\n",
    "\n",
    "*Hint*: Remember that larger values of the test statistic should favor the alternative over the null.\n",
    "\n",
    "\n",
    "_Points:_ 2"
   ]
  },
  {
   "cell_type": "markdown",
   "metadata": {},
   "source": [
    "Mean cholesterol between those who have heart disease and those who do not."
   ]
  },
  {
   "cell_type": "markdown",
   "metadata": {},
   "source": [
    "<!-- END QUESTION -->\n",
    "\n",
    "#### Task 2.2.3. 📍"
   ]
  },
  {
   "cell_type": "markdown",
   "metadata": {},
   "source": [
    "Write a function that computes your test statistic. It should take a table with two columns, `TOTCHOL` (total serum cholesterol) and `ANYCHD` (whether or not the person had coronary heart disease), and compute the test statistic you described above. \n",
    "\n",
    "Use the function you defined to compute the observed test statistic, and assign it to the name `framingham_observed_statistic`.\n",
    "\n",
    "\n",
    "_Points:_ 3"
   ]
  },
  {
   "cell_type": "code",
   "execution_count": 26,
   "metadata": {
    "for_assignment_type": "solution",
    "tags": []
   },
   "outputs": [
    {
     "data": {
      "text/plain": [
       "16.635919905689406"
      ]
     },
     "execution_count": 26,
     "metadata": {},
     "output_type": "execute_result"
    }
   ],
   "source": [
    "def compute_framingham_test_statistic(tbl):\n",
    "    chol_chd=tbl.select('TOTCHOL','ANYCHD')\n",
    "    ab=chol_chd.group(1,np.mean)\n",
    "    return ab.column(1).item(1)-ab.column(1).item(0)\n",
    "    \n",
    "framingham_observed_statistic = compute_framingham_test_statistic(framingham)\n",
    "framingham_observed_statistic"
   ]
  },
  {
   "cell_type": "code",
   "execution_count": 27,
   "metadata": {
    "deletable": false,
    "editable": false
   },
   "outputs": [
    {
     "data": {
      "text/html": [
       "<p><strong><pre style='display: inline;'>task_2_2_3</pre></strong> passed!</p><p><strong><pre style='display: inline;'>task_2_2_3 - 1</pre> message:</strong> ✅ compute_framingham_test_statistic(framingham) returns a float or an integer.</p>"
      ],
      "text/plain": [
       "task_2_2_3 results: All test cases passed!\n",
       "task_2_2_3 - 1 message: ✅ compute_framingham_test_statistic(framingham) returns a float or an integer."
      ]
     },
     "execution_count": 27,
     "metadata": {},
     "output_type": "execute_result"
    }
   ],
   "source": [
    "grader.check(\"task_2_2_3\")"
   ]
  },
  {
   "cell_type": "markdown",
   "metadata": {},
   "source": [
    "Now that we have defined hypotheses and a test statistic, we are ready to conduct a hypothesis test. We'll start by defining a function to simulate the test statistic under the null hypothesis, and then use that function 1000 times to understand the distribution under the null hypothesis."
   ]
  },
  {
   "cell_type": "markdown",
   "metadata": {},
   "source": [
    "#### Task 2.2.4. 📍"
   ]
  },
  {
   "cell_type": "markdown",
   "metadata": {},
   "source": [
    "Write a function to simulate the test statistic under the null hypothesis. \n",
    "\n",
    "The `simulate_framingham_null` function should simulate the null hypothesis once (not 1000 times) and return the value of the test statistic for that simulated sample.\n",
    "\n",
    "\n",
    "_Points:_ 2"
   ]
  },
  {
   "cell_type": "code",
   "execution_count": 28,
   "metadata": {
    "for_assignment_type": "solution",
    "tags": []
   },
   "outputs": [
    {
     "data": {
      "text/plain": [
       "-1.9580553087452301"
      ]
     },
     "execution_count": 28,
     "metadata": {},
     "output_type": "execute_result"
    }
   ],
   "source": [
    "def simulate_framingham_null():\n",
    "    reduced=framingham.select('ANYCHD','TOTCHOL')\n",
    "    shuffle=reduced.sample(with_replacement=False).column('ANYCHD')\n",
    "    replace=framingham.select('TOTCHOL').with_column('ANYCHD',shuffle)\n",
    "    return compute_framingham_test_statistic(replace)\n",
    "    \n",
    "# Run your function once to make sure that it works.\n",
    "simulate_framingham_null()"
   ]
  },
  {
   "cell_type": "code",
   "execution_count": 29,
   "metadata": {
    "deletable": false,
    "editable": false
   },
   "outputs": [
    {
     "data": {
      "text/html": [
       "<p><strong><pre style='display: inline;'>task_2_2_4</pre></strong> passed!</p><p><strong><pre style='display: inline;'>task_2_2_4 - 1</pre> message:</strong> ✅ It seems like simulate_framingham_null() is producing random data.</p><p><strong><pre style='display: inline;'>task_2_2_4 - 2</pre> message:</strong> ✅ simulate_framingham_null() returns a value less than framingham_observed_statistic.</p>"
      ],
      "text/plain": [
       "task_2_2_4 results: All test cases passed!\n",
       "task_2_2_4 - 1 message: ✅ It seems like simulate_framingham_null() is producing random data.\n",
       "task_2_2_4 - 2 message: ✅ simulate_framingham_null() returns a value less than framingham_observed_statistic."
      ]
     },
     "execution_count": 29,
     "metadata": {},
     "output_type": "execute_result"
    }
   ],
   "source": [
    "grader.check(\"task_2_2_4\")"
   ]
  },
  {
   "cell_type": "markdown",
   "metadata": {},
   "source": [
    "#### Task 2.2.5. 📍"
   ]
  },
  {
   "cell_type": "markdown",
   "metadata": {},
   "source": [
    "Fill in the blanks below to complete the simulation for the hypothesis test. Your simulation should compute 1000 values of the test statistic under the null hypothesis and store the result in the array `framingham_simulated_stats`.\n",
    "\n",
    "*Hint*: You should use the function you wrote above in Task 4.\n",
    "\n",
    "*Note*: Warning: running should only take a couple minutes at max!  We encourage you to check your `simulate_framingham_null()` code to make sure it works correctly before running this cell. \n",
    "\n",
    "\n",
    "_Points:_ 1"
   ]
  },
  {
   "cell_type": "code",
   "execution_count": 30,
   "metadata": {
    "for_assignment_type": "solution",
    "tags": []
   },
   "outputs": [
    {
     "data": {
      "text/plain": [
       "array([  1.57136957e+00,  -5.53815543e-01,   1.04983464e+00,\n",
       "        -4.34819132e+00,  -4.84091622e-01,   1.73452354e+00,\n",
       "         4.25108306e-01,   6.11968414e-01,   1.90464991e+00,\n",
       "         6.32885590e-01,  -2.80497773e-01,  -3.25121082e-01,\n",
       "         1.82469062e-01,   3.41439601e-01,   1.77217446e+00,\n",
       "         7.48627299e-01,   8.58791094e-01,   5.91051238e-01,\n",
       "        -4.88275057e-01,   2.88357376e+00,   9.21542623e-01,\n",
       "         1.23900968e-01,  -4.86880579e-01,  -5.91466460e-01,\n",
       "         1.69918756e-01,  -8.55022881e-01,   2.52192982e-01,\n",
       "        -2.11144793e+00,  -2.47030291e-01,  -2.15607124e+00,\n",
       "        -1.27057745e+00,  -2.17838290e+00,  -3.50174292e+00,\n",
       "        -4.12089133e+00,  -8.00638223e-01,   1.90186095e+00,\n",
       "         1.52814073e+00,  -8.67573187e-01,  -2.79892579e+00,\n",
       "        -5.92860938e-01,  -4.78513708e-01,   4.33475177e-01,\n",
       "         2.36622226e+00,   4.23713828e-01,  -1.03630508e+00,\n",
       "         2.28486849e-01,  -4.95200047e+00,   9.21542623e-01,\n",
       "         2.25697893e-01,   1.39240231e-01,  -1.17714740e+00,\n",
       "        -3.46038259e-01,  -3.83689176e-01,   1.25342849e+00,\n",
       "        -1.12276274e+00,  -2.05195938e-01,  -4.15017538e+00,\n",
       "         6.59380680e-01,   8.53213180e-01,   3.06577641e-01,\n",
       "        -2.16025468e+00,   2.15936544e-01,  -3.14893988e+00,\n",
       "        -1.25244923e+00,   5.78500932e-01,   1.30781314e+00,\n",
       "         1.46212623e-01,  -2.22858412e+00,   1.63830453e+00,\n",
       "        -2.87283315e+00,  -2.24810682e+00,  -2.27878534e+00,\n",
       "         3.81879475e-01,   1.14605365e+00,  -2.38894914e+00,\n",
       "        -5.13375669e-01,   4.32964787e+00,  -2.14212646e+00,\n",
       "        -1.19527561e+00,   2.20725172e+00,   2.25187503e+00,\n",
       "         1.85723764e+00,   1.99529100e+00,   1.40124320e+00,\n",
       "         3.83273954e-01,  -3.48827215e-01,  -1.52855596e+00,\n",
       "         1.31339106e+00,   1.24506162e+00,   3.74907083e-01,\n",
       "         1.53185015e-01,  -3.04017056e+00,  -1.35982407e+00,\n",
       "        -6.51429032e-01,   1.07167227e-01,  -1.69031545e+00,\n",
       "        -6.01701830e-02,   7.89067173e-01,  -4.92458492e-01,\n",
       "        -2.63019391e+00,   3.30283774e-01,   3.07880073e+00,\n",
       "         3.26566084e+00,  -2.28157430e+00,  -1.10184556e+00,\n",
       "         5.41770472e-02,  -6.99315319e-02,   1.09166899e+00,\n",
       "        -2.21929679e-01,  -1.73493876e+00,  -8.96857233e-01,\n",
       "         6.14757371e-01,  -6.70951730e-01,  -5.74732719e-01,\n",
       "         1.18686737e-03,  -8.02032701e-01,  -1.75027802e+00,\n",
       "        -1.21619279e+00,   4.48814439e-01,   1.62946364e-01,\n",
       "         1.45283890e+00,   4.30212199e-02,   2.54889894e+00,\n",
       "        -1.45883204e+00,  -2.06264119e+00,   3.46507126e+00,\n",
       "        -9.74948025e-01,   2.22908936e-01,  -6.52823510e-01,\n",
       "        -2.41452377e-01,   4.02796652e-01,  -1.54947313e+00,\n",
       "        -1.65824245e+00,  -4.85486100e-01,  -1.24408236e+00,\n",
       "        -2.35269270e+00,  -3.75322305e-01,  -1.81163507e+00,\n",
       "        -1.25384371e+00,   1.65922171e+00,   7.06792946e-01,\n",
       "        -1.86183630e+00,   4.97621184e-01,   1.29107940e+00,\n",
       "         1.65643275e+00,   8.93653054e-01,   1.85258018e-01,\n",
       "        -1.87857004e+00,   9.21542623e-01,  -7.82984024e-02,\n",
       "        -1.40444738e+00,  -2.06403567e+00,  -6.22144985e-01,\n",
       "        -3.14754540e+00,   4.58575788e-01,  -3.37484538e+00,\n",
       "         8.16956741e-01,  -1.42444410e-01,   6.59380680e-01,\n",
       "         1.77914685e+00,  -9.12196496e-01,   4.19530393e-01,\n",
       "        -7.92271352e-01,   1.56997509e+00,   1.93532843e+00,\n",
       "        -1.26360506e+00,  -7.29519823e-01,  -1.56760135e+00,\n",
       "         8.62500508e-02,  -1.23153205e+00,   3.80950742e+00,\n",
       "         1.14605365e+00,   2.79851057e+00,   1.68711127e+00,\n",
       "         2.16402289e+00,  -1.18551427e+00,   1.23900968e-01,\n",
       "        -1.22037623e+00,  -9.83314895e-01,  -2.30946387e+00,\n",
       "         2.59491672e+00,   1.97855726e+00,   1.64806588e+00,\n",
       "        -5.91466460e-01,   2.73575904e+00,  -1.16459709e+00,\n",
       "        -1.69413521e-02,   3.33677924e+00,   6.25439177e-02,\n",
       "         9.28515015e-01,  -1.15623022e+00,   3.88759822e+00,\n",
       "         1.13210886e+00,  -6.19356028e-01,   8.96442011e-01,\n",
       "        -2.87470165e-01,   1.06517390e+00,  -2.67947467e-01,\n",
       "        -2.17746244e-01,  -1.66150543e-01,  -1.60804123e+00,\n",
       "         2.55029341e+00,   5.75711975e-01,   2.87381241e+00,\n",
       "         1.74707385e+00,  -3.72904290e+00,  -1.80745164e+00,\n",
       "        -2.67202826e+00,   2.31741552e+00,  -6.16567071e-01,\n",
       "         1.51790536e-01,   1.06099046e+00,  -2.68457856e+00,\n",
       "        -6.09594679e-01,  -3.57194086e-01,  -3.97633960e-01,\n",
       "         2.34809404e+00,  -1.12555169e+00,   8.12773306e-01,\n",
       "        -3.14336196e+00,   4.18135914e-01,   4.61364745e-01,\n",
       "         5.56189277e-01,   2.13752780e+00,   2.50567010e+00,\n",
       "        -8.91279320e-01,  -1.37237437e+00,  -9.95865201e-01,\n",
       "        -1.44488725e+00,   1.09445795e+00,  -2.24950130e+00,\n",
       "         1.03588985e+00,   2.98210770e-01,   1.63551557e+00,\n",
       "        -1.55086761e+00,   1.76380759e+00,   2.10358630e-01,\n",
       "         7.48627299e-01,   9.27120536e-01,  -9.61003240e-01,\n",
       "         1.05959599e+00,  -1.96363322e+00,  -1.36866496e-01,\n",
       "        -4.67357881e-01,  -2.36245405e+00,  -1.34587928e+00,\n",
       "        -1.03769955e+00,  -1.18411979e+00,   1.40961007e+00,\n",
       "         8.29507047e-01,   1.49885669e+00,  -2.29551909e+00,\n",
       "        -1.20224801e+00,  -1.94689948e+00,  -4.06474851e-02,\n",
       "        -5.10586712e-01,   1.21856653e+00,  -4.01630545e+00,\n",
       "        -1.39050259e+00,  -1.86601973e+00,  -1.23013757e+00,\n",
       "         2.54750446e+00,   1.26040088e+00,   3.40092525e+00,\n",
       "         2.89843900e-01,  -7.99243744e-01,   1.65364379e+00,\n",
       "         8.49029745e-01,   8.40662874e-01,   3.09692895e+00,\n",
       "         1.64527692e+00,   2.00597281e-01,   3.40045123e-01,\n",
       "         2.30347073e+00,  -1.22177070e+00,   3.15410257e+00,\n",
       "         2.05107014e+00,   2.22537994e+00,  -1.84510256e+00,\n",
       "         5.17143882e-01,   1.26689925e-01,  -2.47959024e+00,\n",
       "        -1.43094247e+00,  -1.10371406e-01,   7.38865950e-01,\n",
       "        -1.98873383e+00,  -4.85486100e-01,  -2.47959024e+00,\n",
       "         2.20167381e+00,   2.54471550e+00,   1.86699899e+00,\n",
       "        -1.99570623e+00,   9.04334861e-02,   2.36853720e-01,\n",
       "        -2.36803196e+00,   8.44846310e-01,   5.10171490e-01,\n",
       "        -2.40289392e+00,  -1.89856676e-01,  -6.33300812e-01,\n",
       "        -1.72378293e+00,   5.99418108e-01,   5.65950626e-01,\n",
       "         3.83273954e-01,   1.04704568e+00,  -1.80884612e+00,\n",
       "         3.76767307e+00,  -1.30683389e+00,   1.22832787e+00,\n",
       "        -2.28994117e+00,  -2.81008162e+00,  -1.80605716e+00,\n",
       "         3.27821115e+00,   2.45546888e+00,  -2.72920187e+00,\n",
       "         1.86002660e+00,  -3.43620243e+00,   3.03417742e+00,\n",
       "         1.18686737e-03,  -1.96921114e+00,  -1.58015166e+00,\n",
       "         1.77217446e+00,   2.58134578e-03,  -8.29922269e-01,\n",
       "         9.08992317e-01,   9.60588018e-01,  -2.83286730e-01,\n",
       "        -8.70362143e-01,  -3.32093474e-01,  -8.95462755e-01,\n",
       "         6.32885590e-01,   1.25761192e+00,   2.84173940e+00,\n",
       "         2.08035419e+00,  -2.07379702e+00,  -1.32914554e+00,\n",
       "        -1.48253817e+00,   2.41037155e-01,   8.60185572e-01,\n",
       "        -3.13220614e+00,   3.15549705e+00,   1.43749964e+00,\n",
       "        -1.56899583e+00,   1.31199658e+00,   6.38463504e-01,\n",
       "         7.02609511e-01,  -2.88398898e+00,  -6.16567071e-01,\n",
       "        -1.84789151e+00,   3.27821115e+00,  -1.33193450e+00,\n",
       "        -2.42660006e+00,  -3.06248222e+00,  -6.68162773e-01,\n",
       "        -6.89079949e-01,   2.31323208e+00,   1.29478882e-01,\n",
       "        -1.42257560e+00,   2.84731732e+00,   1.07354077e+00,\n",
       "        -2.39034362e+00,   7.86278216e-01,  -8.49444967e-01,\n",
       "         1.95903457e+00,   1.40821559e+00,   2.34251613e+00,\n",
       "        -1.61919705e+00,   3.46543494e-02,  -1.54110626e+00,\n",
       "         1.68524277e-01,  -4.17156658e-01,   2.43176275e+00,\n",
       "         2.59770568e+00,   1.28968492e+00,   3.29215593e+00,\n",
       "        -2.45635812e-01,  -9.70764589e-01,  -1.81721299e+00,\n",
       "         7.59783126e-01,  -1.56620687e+00,  -1.69413521e-02,\n",
       "         2.07095652e-02,  -1.95526635e+00,   3.69237124e+00,\n",
       "         7.47232821e-01,   4.86465357e-01,  -2.98160247e+00,\n",
       "         3.03138847e+00,   3.12155554e-01,   9.66165932e-01,\n",
       "        -1.73912220e+00,  -5.52421064e-01,  -1.43930934e+00,\n",
       "         1.20462174e+00,   6.77508900e-01,  -7.62987305e-01,\n",
       "        -4.38073834e-01,   9.74532803e-01,   1.28689597e+00,\n",
       "         8.26718090e-01,   2.35459241e-01,   1.03867881e+00,\n",
       "        -2.00407310e+00,  -1.17575292e+00,  -8.66178708e-01,\n",
       "         6.11494393e-02,   1.46212623e-01,   1.19346591e+00,\n",
       "         8.07195392e-01,  -2.51724115e+00,   6.00812587e-01,\n",
       "         9.55373787e-03,   2.83755597e+00,  -1.16459709e+00,\n",
       "         1.95206217e+00,   1.41658246e+00,   1.85165973e+00,\n",
       "         9.53615626e-01,   2.18772903e+00,  -1.90645961e+00,\n",
       "        -6.31906334e-01,   3.00768233e+00,   1.94787874e+00,\n",
       "         1.21717205e+00,   1.74428489e+00,  -2.27599639e+00,\n",
       "         1.72707713e-01,   1.48072847e+00,  -4.89669535e-01,\n",
       "         3.48411993e-01,  -3.44643780e-01,   1.46817816e+00,\n",
       "        -5.07797755e-01,   1.65782723e+00,  -2.79334788e+00,\n",
       "         1.18928248e+00,  -1.28731119e+00,   1.94648426e+00,\n",
       "         4.73915051e-01,   4.06888041e+00,   5.92445716e-01,\n",
       "        -2.01522892e+00,  -5.71943762e-01,   6.53328746e-02,\n",
       "         2.95469215e+00,   1.23948370e+00,   2.34112165e+00,\n",
       "         1.93253948e+00,   1.78611924e+00,   1.90186095e+00,\n",
       "         9.99633414e-01,   1.25761192e+00,   4.72986318e+00,\n",
       "        -5.98438852e-01,   1.45423338e+00,  -5.76127197e-01,\n",
       "         3.60962299e-01,   1.80703642e+00,   1.39845424e+00,\n",
       "        -1.39608051e+00,  -6.01227809e-01,  -2.29830804e+00,\n",
       "        -1.08790078e+00,   1.43889412e+00,  -8.84306928e-01,\n",
       "         1.47375608e+00,   2.93935289e+00,   8.93653054e-01,\n",
       "        -2.29273013e+00,  -8.06216136e-01,  -1.94040111e-01,\n",
       "         2.45965232e+00,  -3.04853743e+00,  -7.71354176e-01,\n",
       "         3.12155554e-01,   6.71930986e-01,   1.20601622e+00,\n",
       "         2.78874922e+00,   1.06099046e+00,  -6.66768294e-01,\n",
       "         4.18135914e-01,  -2.28715222e+00,   9.02019925e-01,\n",
       "        -1.07116704e+00,   2.52658728e+00,   2.04549223e+00,\n",
       "        -1.27105147e-01,   6.53802767e-01,   2.63954003e+00,\n",
       "        -4.99430884e-01,   2.25697893e-01,  -2.62879943e+00,\n",
       "         2.07569673e-01,   2.68926723e-01,   1.06656838e+00,\n",
       "         1.87954930e+00,  -1.49508847e+00,  -2.59951538e+00,\n",
       "        -7.96928808e-02,   1.76101863e+00,  -1.47417130e+00,\n",
       "         9.18753666e-01,   2.70321202e-01,   1.13489782e+00,\n",
       "        -2.33085507e-01,   3.42742034e+00,   1.11350662e-01,\n",
       "         3.10761076e-01,  -3.13965255e-01,  -3.11176298e-01,\n",
       "        -4.36679356e-01,   9.99633414e-01,   8.62974529e-01,\n",
       "         1.78285626e-01,   1.51790536e-01,   2.98955412e+00,\n",
       "        -6.48640075e-01,  -2.38894914e+00,  -4.88275057e-01,\n",
       "        -3.50221694e-01,   9.07597839e-01,   4.04238532e+00,\n",
       "        -2.10865898e+00,   1.98134622e+00,  -4.68752359e-01,\n",
       "         7.04003990e-01,   1.95019367e-01,   8.62500508e-02,\n",
       "         1.50164564e+00,  -1.60804123e+00,   6.39383961e-02,\n",
       "        -2.30296550e-01,   1.31199658e+00,  -1.71728456e-01,\n",
       "         9.22937101e-01,   1.38590394e+00,  -7.18363996e-01,\n",
       "         5.96629151e-01,  -1.66521484e+00,   4.36264134e-01,\n",
       "         1.27992358e+00,   3.76301562e-01,   6.14757371e-01,\n",
       "        -1.58433509e+00,  -2.00825653e+00,  -7.55094456e-02,\n",
       "         1.04286224e+00,   1.58949778e+00,  -2.55489207e+00,\n",
       "        -6.10989158e-01,   3.14944511e-01,   1.25761192e+00,\n",
       "        -4.87669864e+00,  -1.52297804e+00,  -3.99678275e+00,\n",
       "         2.73110159e-01,   1.61738735e+00,   1.78611924e+00,\n",
       "        -8.92673798e-01,   1.24785057e+00,   1.05680703e+00,\n",
       "         1.38590394e+00,   6.00812587e-01,  -1.19945905e+00,\n",
       "         1.11816408e+00,  -2.33595896e+00,   9.50826669e-01,\n",
       "         1.55184687e+00,  -1.25802714e+00,   3.07972119e-01,\n",
       "         1.05959599e+00,   3.42602586e+00,  -2.25192657e-02,\n",
       "         2.39132287e+00,  -1.60208947e-03,   4.83676400e-01,\n",
       "         8.71341400e-01,  -8.75940057e-01,   3.54595100e+00,\n",
       "         1.75125728e+00,  -5.98438852e-01,  -1.31798972e+00,\n",
       "        -4.99430884e-01,   7.55599691e-01,   3.77696040e-01,\n",
       "        -1.20503696e+00,   4.50208918e-01,   1.58810331e+00,\n",
       "        -4.78605754e+00,   2.90727989e+00,  -6.45851118e-01,\n",
       "         7.16554295e-01,   8.69946921e-01,  -3.15451779e+00,\n",
       "        -2.18814425e+00,   1.36777572e+00,   8.44846310e-01,\n",
       "         2.56563268e+00,   1.75496670e-01,  -3.26607606e+00,\n",
       "        -2.06682463e+00,  -3.00020471e-01,  -1.80745164e+00,\n",
       "         3.05648908e+00,   8.16956741e-01,  -1.64756064e-01,\n",
       "        -8.48050489e-01,   2.42431634e-01,   1.45841681e+00,\n",
       "         3.02302160e+00,   9.88477587e-01,  -1.52437252e+00,\n",
       "         4.13952479e-01,   4.04191130e-01,  -1.29567806e+00,\n",
       "         1.56718613e+00,  -2.89514481e+00,   1.22506490e-01,\n",
       "        -7.81115525e-01,   1.33662317e-01,  -4.40862791e-01,\n",
       "         2.29928730e+00,  -2.80971794e-02,  -2.05845775e+00,\n",
       "         1.47607101e-01,  -2.40568288e+00,  -3.19216871e+00,\n",
       "         5.17143882e-01,   1.31199658e+00,   8.43451831e-01,\n",
       "         2.66603512e+00,  -9.69370111e-01,   5.68739583e-01,\n",
       "        -1.60804123e+00,  -1.77306370e-01,   2.03712536e+00,\n",
       "         2.78688072e-01,   1.27713462e+00,   4.20924871e-01,\n",
       "        -2.31922522e+00,   4.07306385e+00,   6.27307677e-01,\n",
       "         7.27710123e-01,   1.46817816e+00,   1.38729841e+00,\n",
       "        -2.90769511e+00,   1.82655912e+00,   3.66308719e+00,\n",
       "        -1.42536455e+00,  -7.07208169e-01,   1.58531435e+00,\n",
       "         1.79030268e+00,   9.34092928e-01,   1.68524277e-01,\n",
       "        -6.37484248e-01,  -3.92530067e-02,  -3.34277238e+00,\n",
       "        -1.95666083e+00,   2.12218854e+00,  -1.06698360e+00,\n",
       "         4.19530393e-01,  -1.23153205e+00,   5.01804619e-01,\n",
       "        -1.89948722e+00,  -2.60369882e+00,  -1.44628173e+00,\n",
       "        -4.61732565e+00,  -1.61780257e+00,   4.06980087e-01,\n",
       "        -4.85486100e-01,   1.35056795e-01,  -2.26762952e+00,\n",
       "        -3.90661568e-01,  -1.08929525e+00,  -1.10371406e-01,\n",
       "         3.37256166e-01,   9.74532803e-01,   8.72735878e-01,\n",
       "         7.43049385e-01,   1.51140699e+00,  -2.67063378e+00,\n",
       "        -9.45663978e-01,  -4.47835183e-01,  -1.21758727e+00,\n",
       "         1.56439717e+00,  -2.63019391e+00,   1.90835932e-01,\n",
       "        -5.67760327e-01,   5.18538360e-01,  -1.27105147e-01,\n",
       "         5.88262281e-01,   5.95234673e-01,  -4.12973223e-01,\n",
       "         7.69544475e-01,   9.96844457e-01,  -1.24826579e+00,\n",
       "        -1.64848110e+00,   1.32315241e+00,   1.05401807e+00,\n",
       "        -1.48951056e+00,  -7.28125345e-01,   1.52814073e+00,\n",
       "        -2.54002683e-01,   1.17533769e+00,   1.97855726e+00,\n",
       "        -8.29922269e-01,  -2.15746572e+00,   1.20322726e+00,\n",
       "         4.27665769e+00,  -1.10324004e+00,   2.00086892e+00,\n",
       "         4.16741436e-01,  -1.30543941e+00,  -1.69310441e+00,\n",
       "        -1.97303089e-02,  -1.13634384e-02,  -1.65266454e+00,\n",
       "         8.53213180e-01,   4.79492964e-01,   2.25884742e+00,\n",
       "         2.86684001e+00,   3.44973199e+00,   9.03414403e-01,\n",
       "         1.94230082e+00,  -2.66784482e+00,  -5.92860938e-01,\n",
       "        -2.14957287e-01,   1.41518798e+00,   4.06609145e+00,\n",
       "        -1.64848110e+00,   1.74149593e+00,  -2.29830804e+00,\n",
       "         1.62946364e-01,   1.06517390e+00,   6.78903378e-01,\n",
       "        -6.55612467e-01,  -1.12973513e+00,   3.91640824e-01,\n",
       "         7.62572083e-01,   1.43889412e+00,   1.04425672e+00,\n",
       "        -4.99430884e-01,  -2.91327302e+00,  -1.38910811e+00,\n",
       "         8.90864098e-01,   9.55373787e-03,  -8.14583007e-01,\n",
       "        -2.90351168e+00,  -7.61592827e-01,   3.35630194e+00,\n",
       "        -2.80450371e+00,   8.54607659e-01,   3.49806472e-01,\n",
       "         1.88931064e+00,  -2.35827061e+00,   1.73034010e+00,\n",
       "         3.58173342e-01,  -2.64832213e+00,  -1.52018909e+00,\n",
       "         9.96844457e-01,  -1.48532713e+00,  -1.08371734e+00,\n",
       "        -1.48393265e+00,   1.61878183e+00,   1.82469062e-01,\n",
       "        -5.24531496e-01,   2.53634863e+00,   2.42200140e+00,\n",
       "         2.99605249e-01,  -2.46006754e+00,   1.08469660e+00,\n",
       "         1.68850575e+00,  -9.59608762e-01,   1.07075181e+00,\n",
       "        -4.57130786e+00,  -7.69959697e-01,   1.62854318e+00,\n",
       "         1.08888003e+00,   9.52221148e-01,  -2.02220132e+00,\n",
       "         6.02207065e-01,  -3.71509811e+00,   4.15673255e+00,\n",
       "        -7.90876874e-01,  -1.70565472e+00,   2.55726581e+00,\n",
       "        -9.23352323e-01,   2.95608663e+00,  -8.03427179e-01,\n",
       "        -1.01538790e+00,  -8.92673798e-01,   1.77635789e+00,\n",
       "         2.45825784e+00,  -1.24687132e+00,  -1.35424615e+00,\n",
       "         2.28486849e-01,  -1.34866824e+00,   1.90835932e-01,\n",
       "         1.39984872e+00,  -9.86103852e-01,  -1.46162099e+00,\n",
       "         1.86142108e+00,  -4.18551136e-01,  -2.80497773e-01,\n",
       "        -1.87299213e+00,  -2.14957287e-01,   2.49404026e-01,\n",
       "        -1.00562655e+00,  -1.10602900e+00,   4.30686220e-01,\n",
       "         2.19609590e+00,   3.73699455e+00,  -2.75290801e+00,\n",
       "         2.14542065e-01,   1.82655912e+00,   1.11676960e+00,\n",
       "         3.59567821e-01,   2.57770896e-01,  -1.76701177e+00,\n",
       "        -1.18133083e+00,   1.28968492e+00,   2.79153818e+00,\n",
       "        -6.38878726e-01,  -1.06837808e+00,   1.94230082e+00,\n",
       "         2.08314314e+00,   3.58173342e-01,   2.03294192e+00,\n",
       "        -2.24718636e-01,   5.28299709e-01,   4.22319349e-01,\n",
       "        -1.01259894e+00,  -1.94968844e+00,   1.21112011e-01,\n",
       "         8.29507047e-01,  -5.60787935e-01,   2.23235233e+00,\n",
       "        -2.54234177e+00,   1.14465917e+00,   1.61459840e+00,\n",
       "        -3.64640499e-02,  -1.92598231e+00,  -3.16754212e-01,\n",
       "         1.70384501e+00,  -4.61779967e-01,  -1.56760135e+00,\n",
       "        -2.29273013e+00,   6.09179457e-01,   1.01636716e+00,\n",
       "         1.14187021e+00,  -7.55094456e-02,  -1.42675903e+00,\n",
       "         1.79727507e+00,  -6.79318600e-01,   4.44631004e-01,\n",
       "         1.74102191e-01,  -1.56202344e+00,  -1.16738605e+00,\n",
       "         2.04780716e-01,   1.62993766e+00,  -1.73122935e-01,\n",
       "         1.53790208e+00,   7.75122389e-01,  -1.00423207e+00,\n",
       "        -1.64708662e+00,   5.77106454e-01,   1.25900640e+00,\n",
       "        -5.76127197e-01,  -2.87470165e-01,   2.01481370e+00,\n",
       "        -5.60787935e-01,   1.36219780e+00,   2.91238378e-01,\n",
       "        -3.80155578e+00,   4.55694786e+00,   3.38419151e+00,\n",
       "        -1.27105147e-01,   1.66758858e+00,  -1.78932342e+00,\n",
       "        -1.70844367e+00,  -1.53831731e+00,   7.76516867e-01,\n",
       "         1.69966158e+00,  -8.56417359e-01,  -1.53971178e+00,\n",
       "         1.44586651e+00,   1.30641867e+00,  -2.70549574e+00,\n",
       "         1.37753707e+00,  -1.97060561e+00,  -1.81302955e+00,\n",
       "        -1.53273939e+00,   1.34546406e+00,  -5.32898366e-01,\n",
       "        -2.86725524e+00,  -5.98438852e-01,  -3.89267089e-01,\n",
       "         5.40850015e-01,  -4.43651748e-01,  -2.29273013e+00,\n",
       "         7.52810734e-01,   1.06796286e+00,  -1.50763878e+00,\n",
       "        -3.51150427e+00,   1.14884260e+00,   2.67021856e+00,\n",
       "         4.61364745e-01,   4.12558000e-01,  -2.08076941e+00,\n",
       "        -1.56760135e+00,   1.20741070e+00,   2.40945109e+00,\n",
       "         7.31893558e-01,  -3.75322305e-01,   2.83058358e+00,\n",
       "         1.07214629e+00,   1.36359228e+00,   2.06640940e+00,\n",
       "         5.85473324e-01,   5.78500932e-01,   2.93377498e+00,\n",
       "        -1.30125597e+00,   4.39658284e+00,  -1.92040439e+00,\n",
       "         2.57957746e+00,  -3.45154169e+00,  -1.99849518e+00,\n",
       "         1.58391987e+00,  -6.05411244e-01,  -8.00638223e-01,\n",
       "        -1.10742347e+00,   5.03199098e-01,  -1.07116704e+00,\n",
       "         2.60607255e+00,  -1.91761543e+00,   1.05820151e+00,\n",
       "        -1.19806457e+00,  -1.78700848e-01,   4.80887443e-01,\n",
       "        -1.01678238e+00,   3.28889295e-01,  -9.41480543e-01,\n",
       "        -9.44269499e-01,  -7.19758474e-01,   9.55010105e-01,\n",
       "         1.83863540e-01,   1.49885669e+00,  -9.87498330e-01,\n",
       "        -6.50034553e-01,   9.52221148e-01,  -8.14583007e-01,\n",
       "        -3.98004901e+00,  -6.30511856e-01,  -2.44472828e+00,\n",
       "        -1.65405901e+00,  -7.35097737e-01,  -3.98144349e+00,\n",
       "        -7.19758474e-01,   2.10358630e-01,   2.45220590e-01,\n",
       "         1.53650760e+00,   2.35088300e+00,  -9.70764589e-01,\n",
       "         6.55197245e-01,  -2.71804605e+00,   3.19127946e-01,\n",
       "         3.49993322e+00,   1.38311498e+00,  -6.47245597e-01,\n",
       "         4.43236526e-01,  -5.64971370e-01,   1.70245054e+00,\n",
       "        -2.80032027e+00,   2.52658728e+00,   2.05525358e+00,\n",
       "        -1.42444410e-01,  -2.07379702e+00,  -1.72099398e+00,\n",
       "         1.97808324e-01,   1.56439717e+00,  -5.62182413e-01,\n",
       "         6.28702155e-01,   3.49806472e-01,   1.99529100e+00,\n",
       "         3.40045123e-01,  -1.11765884e-01,  -8.96857233e-01,\n",
       "         1.33151928e+00,  -2.40568288e+00,  -2.27739087e+00,\n",
       "        -1.25384371e+00,  -1.60208947e-03,  -2.06590417e-01,\n",
       "         3.69329169e-01,   1.23948370e+00,  -1.10742347e+00,\n",
       "        -5.56604499e-01,   2.49404026e-01,  -1.46022651e+00,\n",
       "        -1.70983815e+00])"
      ]
     },
     "execution_count": 30,
     "metadata": {},
     "output_type": "execute_result"
    }
   ],
   "source": [
    "framingham_simulated_stats = make_array()\n",
    "\n",
    "for i in np.arange(1000):\n",
    "    one_simulation=simulate_framingham_null()\n",
    "    framingham_simulated_stats=np.append(one_simulation,framingham_simulated_stats)\n",
    "\n",
    "framingham_simulated_stats"
   ]
  },
  {
   "cell_type": "code",
   "execution_count": 31,
   "metadata": {
    "deletable": false,
    "editable": false
   },
   "outputs": [
    {
     "data": {
      "text/html": [
       "<p><strong><pre style='display: inline;'>task_2_2_5</pre></strong> passed!</p><p><strong><pre style='display: inline;'>task_2_2_5 - 1</pre> message:</strong> ✅ framingham_simulated_stats contains 1,000 items.</p>"
      ],
      "text/plain": [
       "task_2_2_5 results: All test cases passed!\n",
       "task_2_2_5 - 1 message: ✅ framingham_simulated_stats contains 1,000 items."
      ]
     },
     "execution_count": 31,
     "metadata": {},
     "output_type": "execute_result"
    }
   ],
   "source": [
    "grader.check(\"task_2_2_5\")"
   ]
  },
  {
   "cell_type": "markdown",
   "metadata": {},
   "source": [
    "#### Task 2.2.6. 📍🔎\n"
   ]
  },
  {
   "cell_type": "markdown",
   "metadata": {},
   "source": [
    "<!-- BEGIN QUESTION -->\n",
    "\n",
    "The following line will plot the histogram of the simulated test statistics, as well as a point for the observed test statistic. Make sure to run it, as it will be graded. \n",
    "\n",
    "\n",
    "_Points:_ 1"
   ]
  },
  {
   "cell_type": "code",
   "execution_count": 32,
   "metadata": {
    "export_pdf": true,
    "manual_problem_id": "disease_q_4_1_6",
    "tags": []
   },
   "outputs": [
    {
     "data": {
      "image/png": "[encoded data removed]",
      "text/plain": [
       "<Figure size 600x400 with 1 Axes>"
      ]
     },
     "metadata": {},
     "output_type": "display_data"
    }
   ],
   "source": [
    "Table().with_column('Simulated statistics', framingham_simulated_stats).hist()\n",
    "plots.scatter(framingham_observed_statistic, 0, color='red', s=60, zorder=3);"
   ]
  },
  {
   "cell_type": "markdown",
   "metadata": {},
   "source": [
    "<!-- END QUESTION -->\n",
    "\n",
    "#### Task 2.2.7. 📍"
   ]
  },
  {
   "cell_type": "markdown",
   "metadata": {},
   "source": [
    "Compute the p-value for this hypothesis test, and assign it to the name `framingham_p_value`.\n",
    "\n",
    "*Hint*: One of the key findings of the Framingham study was a strong association between cholesterol levels and heart disease. If your p-value doesn't match up with this finding, you may want to take another look at your test statistic and/or your simulation.\n",
    "\n",
    "\n",
    "_Points:_ 1"
   ]
  },
  {
   "cell_type": "code",
   "execution_count": 33,
   "metadata": {
    "for_assignment_type": "solution",
    "tags": []
   },
   "outputs": [
    {
     "data": {
      "text/plain": [
       "0.0"
      ]
     },
     "execution_count": 33,
     "metadata": {},
     "output_type": "execute_result"
    }
   ],
   "source": [
    "framingham_p_value = np.count_nonzero(framingham_simulated_stats>=framingham_observed_statistic)/len(framingham_simulated_stats)\n",
    "framingham_p_value"
   ]
  },
  {
   "cell_type": "code",
   "execution_count": 34,
   "metadata": {
    "deletable": false,
    "editable": false
   },
   "outputs": [
    {
     "data": {
      "text/html": [
       "<p><strong><pre style='display: inline;'>task_2_2_7</pre></strong> passed!</p><p><strong><pre style='display: inline;'>task_2_2_7 - 1</pre> message:</strong> ✅ framingham_p_value is between 0.0 and 0.05, inclusive.</p>"
      ],
      "text/plain": [
       "task_2_2_7 results: All test cases passed!\n",
       "task_2_2_7 - 1 message: ✅ framingham_p_value is between 0.0 and 0.05, inclusive."
      ]
     },
     "execution_count": 34,
     "metadata": {},
     "output_type": "execute_result"
    }
   ],
   "source": [
    "grader.check(\"task_2_2_7\")"
   ]
  },
  {
   "cell_type": "markdown",
   "metadata": {},
   "source": [
    "#### Task 2.2.8. 📍🔎\n"
   ]
  },
  {
   "cell_type": "markdown",
   "metadata": {},
   "source": [
    "<!-- BEGIN QUESTION -->\n",
    "\n",
    "Despite the Framingham Heart Study's well-deserved reputation as a well-conducted and rigorous study, it has some major limitations. Give one specific reason why it can't be used to say that high cholesterol *causes* heart disease.\n",
    "\n",
    "\n",
    "_Points:_ 2"
   ]
  },
  {
   "cell_type": "markdown",
   "metadata": {},
   "source": [
    "Since this was not a randomized case-controlled study, we cannot assert causation only a very strong association. The study did not, for example, administer cholesterol or raise subjects cholesterol to see if they developed heart disease as a result."
   ]
  },
  {
   "cell_type": "markdown",
   "metadata": {},
   "source": [
    "<!-- END QUESTION -->\n",
    "\n",
    "Similar studies from the 1950s found positive associations between diets high in saturated fat, high cholesterol, and incidence of heart disease. In 1962, the U.S. Surgeon General said:\n",
    "\n",
    "*\"Although there is evidence that diet and dietary habits may be implicated in the development of coronary heart disease and may be significant in its prevention or control, at present our only research evidence is associative and not conclusive.\"*"
   ]
  },
  {
   "cell_type": "markdown",
   "metadata": {},
   "source": [
    "---"
   ]
  },
  {
   "cell_type": "markdown",
   "metadata": {},
   "source": [
    "## 👋 Submit your Progress Check to Canvas"
   ]
  },
  {
   "cell_type": "markdown",
   "metadata": {},
   "source": [
    "Once you have attempted all the tasks in the above, prepare to submit your progress check in Canvas by completing the following steps.\n",
    "\n",
    "1. Double-check that you have run the code cell near the end of the notebook that contains the command \"grader.check_all()\". This command will run all of the run tests on all your responses to the code questions. It is okay if you don't have all the tasks completed in the notebook. We are just checking that you've attempted everything in Part 1 and Part 2.\n",
    "2. Double-check that you have responded to all the open-response questions in Part 1 and Part 2.\n",
    "3. Select the menu items \"File\", \"Save and Export Notebook as ...\", and HTML in the notebook's Toolbar to save your work, create a specific checkpoint in the notebook's work history, and download an HTML version of your work.\n",
    "4. In the related Canvas Assignment, click Start Assignment or New Attempt to upload the downloaded HTML file.\n",
    "\n",
    "**Keep in mind that the autograder does not always check for correctness. Sometimes it just checks for the format of your answer, so passing the autograder for a question does not mean you got the answer correct for that question.**"
   ]
  },
  {
   "cell_type": "markdown",
   "metadata": {},
   "source": [
    "---"
   ]
  },
  {
   "cell_type": "markdown",
   "metadata": {},
   "source": [
    "## ❤️‍🩹 Part 3: Hormone Replacement Therapy for Cardiovascular Health"
   ]
  },
  {
   "cell_type": "markdown",
   "metadata": {},
   "source": [
    "### Section 1: The Nurses' Health Study"
   ]
  },
  {
   "cell_type": "markdown",
   "metadata": {},
   "source": [
    "The Nurses' Health Study (NHS) is another very large observational study which has brought many insights into women's health. It began in 1976 by Dr. Frank Speizer, with questionnaires that were mailed to 121,964 female registered nurses in the United States asking about their medical history, cholesterol and blood pressure, current medications, and so on (one of the benefits of studying nurses is their ability to give reliably accurate answers to these questions). \n",
    "\n",
    "The study's initial focus was on investigating the long-term health effects of oral contraceptives, whose use had become much more widespread in the U.S. during the 1960s, but the focus soon expanded to investigating a wide variety of questions on women's health. The NHS continues to this day, tracking its third generation of nurses in the US.\n",
    "\n",
    "**One of the most consequential early findings from the NHS was about hormone replacement therapy (HRT)**: supplementary estrogen and progesterone for post-menopausal women to relieve side effects of declining hormone levels due to menopause. The NHS found that HRT in postmenopausal women was negatively associated with heart attack risk. In a landmark 1985 paper in the *New England Journal of Medicine* (NEJM), Speizer and his coauthors wrote that\n",
    "> As compared with the risk in women who had never used postmenopausal hormones, the age-adjusted relative risk of coronary disease in those who had ever used them was 0.5 (95 per cent confidence limits, 0.3 and 0.8; P = 0.007)... These data support the hypothesis that the postmenopausal use of estrogen reduces the risk of severe coronary heart disease. [(Stampfer et al., 1985)](https://www.ncbi.nlm.nih.gov/pubmed/4047106)\n",
    "\n",
    "**In other words, the authors are saying that women on HRT are half as likely to suffer a heart attack over a certain time period.** We'll define the term \"relative risk\" later in this section, and we'll also investigate the interpretation of these claims and their statistical basis."
   ]
  },
  {
   "cell_type": "markdown",
   "metadata": {},
   "source": [
    "#### Task 3.1.1. 📍"
   ]
  },
  {
   "cell_type": "markdown",
   "metadata": {},
   "source": [
    "Based on the passage above, which of the following statements can you infer about the Nurses' Health Study? Create an array called `nhs_true_statements` and add integers corresponding to statements you believe are correct (ex: write `nhs_true_statements = make_array(1, 2, 4)` if you think options 1, 2, and 4 are correct)\n",
    "\n",
    "1. The Nurses' Health Study was a controlled experiment with a control and treatment group.\n",
    "2. Hormone replacement therapy is most commonly used by young women.\n",
    "3. The study uses data that was self-reported by nurses for the analysis\n",
    "4. Since only nurses were included in the study, there's a chance that confounding factors influence our dataset.\n",
    "5. The study found that estrogen and progesterone use had an association with CHD rates in post-menopausal women.\n",
    "\n",
    "\n",
    "_Points:_ 3"
   ]
  },
  {
   "cell_type": "code",
   "execution_count": 35,
   "metadata": {
    "tags": []
   },
   "outputs": [
    {
     "data": {
      "text/plain": [
       "array([3, 4, 5])"
      ]
     },
     "execution_count": 35,
     "metadata": {},
     "output_type": "execute_result"
    }
   ],
   "source": [
    "nhs_true_statements = make_array(3,4,5)\n",
    "nhs_true_statements"
   ]
  },
  {
   "cell_type": "code",
   "execution_count": 36,
   "metadata": {
    "deletable": false,
    "editable": false
   },
   "outputs": [
    {
     "data": {
      "text/html": [
       "<p><strong><pre style='display: inline;'>task_3_1_1</pre></strong> passed!</p><p><strong><pre style='display: inline;'>task_3_1_1 - 1</pre> message:</strong> ✅ Good work NOT calcuating each value.</p><p><strong><pre style='display: inline;'>task_3_1_1 - 2</pre> message:</strong> ✅ nhs_true_statements seems to represent an array of possible values.</p>"
      ],
      "text/plain": [
       "task_3_1_1 results: All test cases passed!\n",
       "task_3_1_1 - 1 message: ✅ Good work NOT calcuating each value.\n",
       "task_3_1_1 - 2 message: ✅ nhs_true_statements seems to represent an array of possible values."
      ]
     },
     "execution_count": 36,
     "metadata": {},
     "output_type": "execute_result"
    }
   ],
   "source": [
    "grader.check(\"task_3_1_1\")"
   ]
  },
  {
   "cell_type": "markdown",
   "metadata": {},
   "source": [
    "**The scientists running the NHS wanted to compare post-menopausal women who had taken HRT with post-menopausal women who had never taken HRT, excluding all women who were not post-menopausal or who had previously suffered a heart attack.** This study design complicates the analysis because it creates a variety of reasons why women might drop in and out of the relevant comparison groups."
   ]
  },
  {
   "cell_type": "markdown",
   "metadata": {},
   "source": [
    "#### Task 3.1.2. 📍"
   ]
  },
  {
   "cell_type": "markdown",
   "metadata": {},
   "source": [
    "Consider the following events which could occur in the middle of the study period (read the above paragraph carefully first): \n",
    "\n",
    "0. A woman (who has never had a heart attack) was pre-menopausal at the beginning of the study period becomes post-menopausal in the middle of the study period.\n",
    "1. A post-menopausal woman survives a heart attack in the middle of the study period (assume the woman is post-menopausal and had never before had a heart attack).\n",
    "2. A woman dies of cancer in the middle of the study period (assume the woman is post-menopausal and has never had a heart attack).\n",
    "3. A woman who was not on HRT at the beginning of the study period, and had never before taken HRT, begins taking HRT in the middle of the period (assume the woman is post-menopausal and has never had a heart attack).\n",
    "4. A woman who was taking HRT at the beginning of the study period stops taking HRT in the middle of the period (assume the woman is post-menopausal and has never had a heart attack).\n",
    "\n",
    "For each of the events listed above, answer whether they would result in a woman\n",
    "\n",
    "- (`E`) entering the study in the middle, \n",
    "- (`L`) leaving the study in the middle, \n",
    "- (`S`) switching from one comparison group to another in the middle, or \n",
    "- (`N`) none of the above \n",
    "\n",
    "Assign `event_result` to an array of strings where the *i*th string is a single *capital* letter corresponding to your answer for the *i*th event.\n",
    "\n",
    "For example, an example answer is `event_result = make_array('N', 'E', 'E', 'L', 'E')` where our answer for event 0 is `N`, our answer for event 1 is `E`, our answer for event 2 is `E`, etc.\n",
    "\n",
    "\n",
    "_Points:_ 4"
   ]
  },
  {
   "cell_type": "code",
   "execution_count": 39,
   "metadata": {
    "tags": []
   },
   "outputs": [
    {
     "data": {
      "text/plain": [
       "array(['E', 'N', 'L', 'S', 'S'],\n",
       "      dtype='<U1')"
      ]
     },
     "execution_count": 39,
     "metadata": {},
     "output_type": "execute_result"
    }
   ],
   "source": [
    "event_result = make_array('E', 'N', 'L', 'S', 'S')\n",
    "event_result"
   ]
  },
  {
   "cell_type": "code",
   "execution_count": 40,
   "metadata": {
    "deletable": false,
    "editable": false
   },
   "outputs": [
    {
     "data": {
      "text/html": [
       "<p><strong><pre style='display: inline;'>task_3_1_2</pre></strong> passed!</p><p><strong><pre style='display: inline;'>task_3_1_2 - 1</pre> message:</strong> ✅ event_result is an array</p><p><strong><pre style='display: inline;'>task_3_1_2 - 2</pre> message:</strong> ✅ event_result contains 5 items.</p><p><strong><pre style='display: inline;'>task_3_1_2 - 3</pre> message:</strong> ✅ Every element of your list is a string.</p>"
      ],
      "text/plain": [
       "task_3_1_2 results: All test cases passed!\n",
       "task_3_1_2 - 1 message: ✅ event_result is an array\n",
       "task_3_1_2 - 2 message: ✅ event_result contains 5 items.\n",
       "task_3_1_2 - 3 message: ✅ Every element of your list is a string."
      ]
     },
     "execution_count": 40,
     "metadata": {},
     "output_type": "execute_result"
    }
   ],
   "source": [
    "grader.check(\"task_3_1_2\")"
   ]
  },
  {
   "cell_type": "markdown",
   "metadata": {},
   "source": [
    "Because women could (and did) drop into and out of the comparison groups in the middle of the study, it is difficult to make a table like we usually would, with one row per participant. In medical studies, individuals are typically weighted by the *amount of time* that they enrolled in the study. A more convenient sampling unit is a **person-month at risk**, which is one month spent by a particular woman in one of the comparison groups, during which she might or might not suffer a heart attack. Here, \"at risk\" just means the woman is being tracked by the survey in either of the two comparison groups, so that if she had a heart attack it would be counted in our data set.\n",
    "\n",
    "**Example**: The table below tracks the histories of two hypothetical post-menopausal women in a six-month longitudinal study, who both enter the study in January 1978:\n",
    "1. Alice has never been on HRT. She has a heart attack in March and is excluded for the remainder of the study period. \n",
    "2. Beatrice begins taking HRT for the first time in April and stays healthy throughout the study period.\n",
    "\n",
    "| Name     | Month    | HRT | Heart Attack   |                                             \n",
    "|----------|----------|-----|----------------|\n",
    "| Alice    | Jan 1978 |  0  | 0              |\n",
    "| Alice    | Feb 1978 |  0  | 0              |\n",
    "| Alice    | Mar 1978 |  0  | 1              |\n",
    "| Beatrice | Jan 1978 |  0  | 0              | \n",
    "| Beatrice | Feb 1978 |  0  | 0              |\n",
    "| Beatrice | Mar 1978 |  0  | 0              |\n",
    "| Beatrice | Apr 1978 |  1  | 0              |\n",
    "| Beatrice | May 1978 |  1  | 0              |\n",
    "| Beatrice | Jun 1978 |  1  | 0              |\n",
    "\n"
   ]
  },
  {
   "cell_type": "markdown",
   "metadata": {},
   "source": [
    "The probability that a heart attack will happen to a given at-risk person in a given duration of time is called the **hazard rate**. The NHS calculated its effects in terms of the **relative risk**, which is simply the hazard rate for *person-months* in the HRT (Group A) group divided by the hazard rate in the no-HRT (Group B) group.\n",
    "\n",
    "$$\\text{Relative Risk} = \\frac{\\text{Hazard Rate(Treatment Group)}}{\\text{Hazard Rate(Control Group)}}$$\n"
   ]
  },
  {
   "cell_type": "markdown",
   "metadata": {},
   "source": [
    "#### Task 3.1.3. 📍"
   ]
  },
  {
   "cell_type": "markdown",
   "metadata": {},
   "source": [
    "Complete the following statements, by setting the variable names to the value that correctly fills in the blank.\n",
    "\n",
    "If the hazard rate of the treatment group is greater than the hazard rate of the control group, the relative risk will be `blank1_1` one. This means that individuals in the treatment group are at `blank1_2` risk of having an heart attack compared to those in the control group.\n",
    "\n",
    "If the hazard rate of the treatment group is less than the hazard rate of the control group, the relative risk will be `blank2_1` one. This means that individuals in the treatment group are at `blank2_2` risk of having an heart attack compared to those in the control group.\n",
    "\n",
    "If the hazard rate of the treatment group is equal to the hazard rate of the control group, the relative risk will be `blank3_1` one. This means that individuals in the treatment group are at `blank3_2` risk of having an heart attack compared to those in the control group.\n",
    "\n",
    "`blank1_1`, `blank2_1`, `blank3_1` should be set to one of the following strings: \"less than\", \"equal to\", or \"greater than\"\n",
    "\n",
    "`blank1_2`, `blank2_2`, `blank3_2` should be set to one of the following strings:\"lower\", \"equal\", or \"higher\" \n",
    "\n",
    "\n",
    "_Points:_ 4"
   ]
  },
  {
   "cell_type": "code",
   "execution_count": null,
   "metadata": {
    "execution": {
     "iopub.execute_input": "2022-11-02T23:18:32.202869Z",
     "iopub.status.busy": "2022-11-02T23:18:32.202051Z",
     "iopub.status.idle": "2022-11-02T23:18:32.206374Z",
     "shell.execute_reply": "2022-11-02T23:18:32.205661Z"
    },
    "tags": []
   },
   "outputs": [],
   "source": [
    "blank1_1 = ...\n",
    "blank1_2 = ...\n",
    "blank2_1 = ...\n",
    "blank2_2 = ...\n",
    "blank3_1 = ...\n",
    "blank3_2 = ..."
   ]
  },
  {
   "cell_type": "code",
   "execution_count": null,
   "metadata": {
    "deletable": false,
    "editable": false
   },
   "outputs": [],
   "source": [
    "grader.check(\"task_3_1_3\")"
   ]
  },
  {
   "cell_type": "markdown",
   "metadata": {},
   "source": [
    "Most statistical methods that deal with this type of data assume that we can treat a table like the one above as though it is a sample of independent random draws from a much larger population of person-months at risk in each group. **We will take this assumption for granted throughout the rest of this section.**\n",
    "\n",
    "Instead of *person-months* at risk, the NHS used *person-years* at risk. It reported 51,478 total person-years at risk in the no-HRT group with 60 heart attacks occurring in total, as well as 54,309 person-years at risk in the HRT group with 30 heart attacks occurring in total. The table NHS below has one row for each person-year at risk. The two columns are 'HRT', recording whether it came from the HRT group (1) or no-HRT group (0), and 'Heart Attack', recording whether the participant had a heart attack that year (1 for yes, 0 for no)."
   ]
  },
  {
   "cell_type": "code",
   "execution_count": null,
   "metadata": {
    "execution": {
     "iopub.execute_input": "2022-11-02T23:18:32.247490Z",
     "iopub.status.busy": "2022-11-02T23:18:32.247241Z",
     "iopub.status.idle": "2022-11-02T23:18:32.457242Z",
     "shell.execute_reply": "2022-11-02T23:18:32.456262Z"
    }
   },
   "outputs": [],
   "source": [
    "NHS = Table.read_table('NHS.csv')\n",
    "NHS.show(3)"
   ]
  },
  {
   "cell_type": "markdown",
   "metadata": {},
   "source": [
    "Using the NHS data, we can now conduct a hypothesis test to investigate the relationship between HRT and risk of CHD. We'll set up the test as follows:\n",
    "\n",
    "> **Null Hypothesis:** HRT does not affect the risk of CHD, and the true relative risk is equal to 1. Any deviation is due to random chance\n",
    "\n",
    "> **Alternative Hypothesis:** HRT decreases the risk of CHD, and the true relative risk is less than 1.\n",
    "\n",
    "> **Test Statistic:** Relative risk of CHD between post-menopausal women receiving HRT and post-menopausal women not receiving HRT (the definition of relative risk is repeated here for your convenience):\n",
    "\n",
    "$$\\text{Relative Risk} = \\frac{\\text{Hazard Rate(Treatment Group)}}{\\text{Hazard Rate(Control Group)}}$$\n",
    "\n",
    "*Note: Remember that we assume, under the null, that the two populations are derived from the same much larger population - under this assumption $\\text{Hazard Rate(Treatment Group)} = \\text{Hazard Rate(Control Group)}$. After simulation, we test this hypothesis by viewing the relative_risk for our simulated samples.*"
   ]
  },
  {
   "cell_type": "markdown",
   "metadata": {},
   "source": [
    "#### Task 3.1.4. 📍"
   ]
  },
  {
   "cell_type": "markdown",
   "metadata": {},
   "source": [
    "Fill in the missing code below to write a function called `relative_risk` that takes in a table with the column labels `HRT` and `Heart Attack`, and computes the sample relative risk as an estimate of the population relative risk. Do *not* round your answer.\n",
    "\n",
    "\n",
    "_Points:_ 2"
   ]
  },
  {
   "cell_type": "code",
   "execution_count": null,
   "metadata": {
    "execution": {
     "iopub.execute_input": "2022-11-02T23:18:32.462149Z",
     "iopub.status.busy": "2022-11-02T23:18:32.461840Z",
     "iopub.status.idle": "2022-11-02T23:18:33.595959Z",
     "shell.execute_reply": "2022-11-02T23:18:33.594935Z"
    },
    "tags": []
   },
   "outputs": [],
   "source": [
    "def relative_risk(tbl):\n",
    "    \"\"\"Return the ratio of the hazard rates (events per person-year) for the two groups\"\"\"\n",
    "    ...\n",
    "    \n",
    "relative_risk(NHS)"
   ]
  },
  {
   "cell_type": "code",
   "execution_count": null,
   "metadata": {
    "deletable": false,
    "editable": false
   },
   "outputs": [],
   "source": [
    "grader.check(\"task_3_1_4\")"
   ]
  },
  {
   "cell_type": "markdown",
   "metadata": {},
   "source": [
    "#### Task 3.1.5. 📍"
   ]
  },
  {
   "cell_type": "markdown",
   "metadata": {},
   "source": [
    "Fill in the function `one_bootstrap_rr` so that it generates one bootstrap sample and computes the relative risk. Assign `bootstrap_rrs` to 10 (yes, only 10; the code is slow!) estimates of the population relative risk.\n",
    "\n",
    "*Note:* The cell may take a few seconds to run.\n",
    "\n",
    "\n",
    "_Points:_ 2"
   ]
  },
  {
   "cell_type": "code",
   "execution_count": null,
   "metadata": {
    "execution": {
     "iopub.execute_input": "2022-11-02T23:18:35.946784Z",
     "iopub.status.busy": "2022-11-02T23:18:35.945766Z",
     "iopub.status.idle": "2022-11-02T23:18:49.204691Z",
     "shell.execute_reply": "2022-11-02T23:18:49.203779Z"
    },
    "tags": []
   },
   "outputs": [],
   "source": [
    "def one_bootstrap_rr():\n",
    "    return ...\n",
    "\n",
    "bootstrap_rrs = ...\n",
    "for i in np.arange(10):\n",
    "    new_boostrap_rr = ...\n",
    "    bootstrap_rrs = ..."
   ]
  },
  {
   "cell_type": "code",
   "execution_count": null,
   "metadata": {
    "deletable": false,
    "editable": false
   },
   "outputs": [],
   "source": [
    "grader.check(\"task_3_1_5\")"
   ]
  },
  {
   "cell_type": "markdown",
   "metadata": {},
   "source": [
    "#### Task 3.1.6. 📍"
   ]
  },
  {
   "cell_type": "markdown",
   "metadata": {},
   "source": [
    "The file `bootstrap_rrs.csv` contains a one-column table with 2001 saved bootstrapped relative risks. Use these bootstrapped values to compute a 95% confidence interval, storing the left endpoint as `ci_left` and the right endpoint as `ci_right`. \n",
    "\n",
    "Note that our method isn't exactly the same as the method employed by the study authors to get their confidence interval.\n",
    "\n",
    "\n",
    "_Points:_ 4"
   ]
  },
  {
   "cell_type": "code",
   "execution_count": null,
   "metadata": {
    "execution": {
     "iopub.execute_input": "2022-11-02T23:18:50.647200Z",
     "iopub.status.busy": "2022-11-02T23:18:50.646792Z",
     "iopub.status.idle": "2022-11-02T23:18:50.660096Z",
     "shell.execute_reply": "2022-11-02T23:18:50.659273Z"
    },
    "tags": []
   },
   "outputs": [],
   "source": [
    "bootstrap_rrs_from_tbl = Table.read_table('bootstrap_rrs.csv').column(0)\n",
    "ci_left = ...\n",
    "ci_right = ...\n",
    "\n",
    "print(\"Middle 95% of bootstrappped relative risks: [{:f}, {:f}]\".format(ci_left, ci_right))"
   ]
  },
  {
   "cell_type": "code",
   "execution_count": null,
   "metadata": {
    "deletable": false,
    "editable": false
   },
   "outputs": [],
   "source": [
    "grader.check(\"task_3_1_6\")"
   ]
  },
  {
   "cell_type": "markdown",
   "metadata": {},
   "source": [
    "The code below plots the confidence interval on top of the bootstrap histogram."
   ]
  },
  {
   "cell_type": "code",
   "execution_count": null,
   "metadata": {
    "execution": {
     "iopub.execute_input": "2022-11-02T23:18:50.704271Z",
     "iopub.status.busy": "2022-11-02T23:18:50.704005Z",
     "iopub.status.idle": "2022-11-02T23:18:50.869368Z",
     "shell.execute_reply": "2022-11-02T23:18:50.868300Z"
    }
   },
   "outputs": [],
   "source": [
    "# Just run this cell\n",
    "Table().with_column(\"Relative Risks\", bootstrap_rrs_from_tbl).hist()\n",
    "plots.plot([ci_left, ci_right], [.05,.05], color=\"gold\");"
   ]
  },
  {
   "cell_type": "markdown",
   "metadata": {},
   "source": [
    "#### Task 3.1.7. 📍"
   ]
  },
  {
   "cell_type": "markdown",
   "metadata": {},
   "source": [
    "The abstract of the original paper gives a 95% confidence interval of [0.3, 0.8] for the relative risk. Which of the following statements can be justified based on that confidence interval? \n",
    "\n",
    "1. There is a 95% chance the relative risk is between 0.3 and 0.8.\n",
    "2. If we used a P-value cutoff of 5%, we would reject the null hypothesis that HRT does not affect the risk of CHD.\n",
    "3. If we redo the procedure that generated the interval [0.3, 0.8] on a fresh sample of the same size, there is a 95% chance it will include the true relative risk.\n",
    "4. There is between a 30% and 80% chance that any woman will suffer a heart attack during the study period.\n",
    "\n",
    "Assign `ci_statements` to a list of number(s) corresponding to the correct answer(s).\n",
    "\n",
    "\n",
    "_Points:_ 2"
   ]
  },
  {
   "cell_type": "code",
   "execution_count": null,
   "metadata": {
    "execution": {
     "iopub.execute_input": "2022-11-02T23:18:50.874125Z",
     "iopub.status.busy": "2022-11-02T23:18:50.873779Z",
     "iopub.status.idle": "2022-11-02T23:18:50.878306Z",
     "shell.execute_reply": "2022-11-02T23:18:50.877359Z"
    },
    "tags": []
   },
   "outputs": [],
   "source": [
    "ci_statements = ..."
   ]
  },
  {
   "cell_type": "code",
   "execution_count": null,
   "metadata": {
    "deletable": false,
    "editable": false
   },
   "outputs": [],
   "source": [
    "grader.check(\"task_3_1_7\")"
   ]
  },
  {
   "cell_type": "markdown",
   "metadata": {},
   "source": [
    "#### Task 3.1.8. 📍🔎"
   ]
  },
  {
   "cell_type": "markdown",
   "metadata": {},
   "source": [
    "<!-- BEGIN QUESTION -->\n",
    "\n",
    "What can you conclude from this test? Was hormone replacement therapy associated with an increased or decreased risk of heart attacks? Can we say that HRT caused an change in the risk of heart attacks? Provide a yes/no response and explain your reasoning in 2-4 sentences. \n",
    "\n",
    "\n",
    "_Points:_ 2"
   ]
  },
  {
   "cell_type": "markdown",
   "metadata": {},
   "source": [
    "_Type your answer here, replacing this text._"
   ]
  },
  {
   "cell_type": "markdown",
   "metadata": {},
   "source": [
    "<!-- END QUESTION -->\n",
    "\n",
    "Partly as a result of evidence from the NHS and other observational studies that drew similar conclusions, HRT drugs became a very popular preventive treatment for doctors to prescribe to post-menopausal woman. Even though there were known or suspected risks to the treatment (such as increasing the risk of invasive breast cancer), it was thought that the reduction in heart disease risk was well worth it."
   ]
  },
  {
   "cell_type": "markdown",
   "metadata": {},
   "source": [
    "### Section 2: The Heart and Estrogen-Progestin Replacement Study"
   ]
  },
  {
   "cell_type": "markdown",
   "metadata": {},
   "source": [
    "The Heart and Estrogen-Progestin Replacement Study (HERS) was a large randomized controlled trial carried out by the Women's Health Initiative, which sought to verify whether HRT drugs were as effective as the observational studies seemed to suggest. 2,763 women with a history of heart disease were selected and randomly assigned to receive the treatment (daily estrogen pills) or a placebo pill that looked identical to the treatment. Of the 2763 women participating, 1380 were assigned to the treatment condition and 1383 to the control. They were followed for an average of three years and the number of heart attacks in the two groups was compared."
   ]
  },
  {
   "cell_type": "markdown",
   "metadata": {},
   "source": [
    "The main results table from the HERS study [Hulley et al. (1998)](https://jamanetwork.com/journals/jama/fullarticle/187879) is reproduced here:\n",
    "\n",
    "<img src=\"HERS-table.png\" width=500>"
   ]
  },
  {
   "cell_type": "markdown",
   "metadata": {},
   "source": [
    "For this study, constructed our own table from scratch based on the results given above. The results are contained in the table `HERS` that has one row for each woman in the trial and two columns: `HRT`, which is 1 if she was assigned to treatment and 0 otherwise, and `CHD`, which is 1 if she suffered a Primary CHD (Coronary Heart Disease) event and 0 otherwise.\n",
    "\n",
    "Run the cell below to view the results from the HERS study."
   ]
  },
  {
   "cell_type": "code",
   "execution_count": null,
   "metadata": {
    "execution": {
     "iopub.execute_input": "2022-11-02T23:18:50.903734Z",
     "iopub.status.busy": "2022-11-02T23:18:50.903400Z",
     "iopub.status.idle": "2022-11-02T23:18:50.911993Z",
     "shell.execute_reply": "2022-11-02T23:18:50.911055Z"
    }
   },
   "outputs": [],
   "source": [
    "num_control = 1383 \n",
    "num_treatment = 1380\n",
    "\n",
    "num_control_chd = 176\n",
    "num_treatment_chd = 172\n",
    "\n",
    "hrt = np.append(np.zeros(num_control), np.ones(num_treatment))\n",
    "chd_control = np.append(np.zeros(num_control - num_control_chd), np.ones(num_control_chd))\n",
    "chd_treatment = np.append(np.zeros(num_treatment - num_treatment_chd), np.ones(num_treatment_chd))\n",
    "chd = np.append(chd_control, chd_treatment)\n",
    "\n",
    "HERS = Table().with_columns('HRT', hrt, 'CHD', chd)\n",
    "HERS.show(3)"
   ]
  },
  {
   "cell_type": "markdown",
   "metadata": {},
   "source": [
    "#### Task 3.2.1. 📍"
   ]
  },
  {
   "cell_type": "markdown",
   "metadata": {},
   "source": [
    "We would like to test the null hypothesis that the treatment (HRT) has no effect on the outcome (CHD), against the alternative hypothesis that the treatment does have an effect. What would be a good test statistic? \n",
    "\n",
    "Assign `good_ts` to an array of number(s) corresponding to the correct answer(s). Keep in mind that this was the first clinical trial to be done on this subject; as a result, it was not clear at the time whether any effect would be positive or negative.\n",
    "\n",
    "\n",
    "1. The absolute difference between 1 and the relative risk.\n",
    "2. The average CHD rate for the treatment group.\n",
    "3. 10 times the absolute difference between the control and treatment groups' average CHD rates.\n",
    "\n",
    "\n",
    "_Points:_ 2"
   ]
  },
  {
   "cell_type": "code",
   "execution_count": null,
   "metadata": {
    "execution": {
     "iopub.execute_input": "2022-11-02T23:18:50.916093Z",
     "iopub.status.busy": "2022-11-02T23:18:50.915787Z",
     "iopub.status.idle": "2022-11-02T23:18:50.920439Z",
     "shell.execute_reply": "2022-11-02T23:18:50.919664Z"
    },
    "tags": []
   },
   "outputs": [],
   "source": [
    "good_ts = ..."
   ]
  },
  {
   "cell_type": "code",
   "execution_count": null,
   "metadata": {
    "deletable": false,
    "editable": false
   },
   "outputs": [],
   "source": [
    "grader.check(\"task_3_2_1\")"
   ]
  },
  {
   "cell_type": "markdown",
   "metadata": {},
   "source": [
    "#### Task 3.2.2. 📍"
   ]
  },
  {
   "cell_type": "markdown",
   "metadata": {},
   "source": [
    "We'll use distance (absolute difference) between average CHD rates as our test statistic. \n",
    "\n",
    "Write a function called `hers_test_statistic` to calculate this test statistic on a table with columns `HRT` and `CHD`. Use this function to calculate the observed test statistic, and assign it to `observed_HERS_test_statistic`.\n",
    "\n",
    "Think about what values of the test statistic support the null versus the alternative hypothesis. You'll use this information to compute the p-value later in this section.\n",
    "\n",
    "_Points:_ 2"
   ]
  },
  {
   "cell_type": "code",
   "execution_count": null,
   "metadata": {
    "execution": {
     "iopub.execute_input": "2022-11-02T23:18:50.943531Z",
     "iopub.status.busy": "2022-11-02T23:18:50.943254Z",
     "iopub.status.idle": "2022-11-02T23:18:50.978424Z",
     "shell.execute_reply": "2022-11-02T23:18:50.977422Z"
    },
    "tags": []
   },
   "outputs": [],
   "source": [
    "def HERS_test_statistic(tbl):\n",
    "    \"\"\"Test statistic: Distance between the average responses\"\"\"\n",
    "    averages = ...\n",
    "    ...\n",
    "observed_HERS_test_statistic = ...\n",
    "observed_HERS_test_statistic"
   ]
  },
  {
   "cell_type": "code",
   "execution_count": null,
   "metadata": {
    "deletable": false,
    "editable": false
   },
   "outputs": [],
   "source": [
    "grader.check(\"task_3_2_2\")"
   ]
  },
  {
   "cell_type": "markdown",
   "metadata": {},
   "source": [
    "#### Task 3.3.3. 📍"
   ]
  },
  {
   "cell_type": "markdown",
   "metadata": {},
   "source": [
    "Write a function called `simulate_one_HERS_statistic` to simulate one value of the test statistic under the null hypothesis. Make sure you're shufflling the labels `HRT`.\n",
    "\n",
    "Then, use the function to repeatedly sample the null hypothesis 1000 times and compute the test statistic each time. The cell may take a few seconds to run.\n",
    "\n",
    "\n",
    "_Points:_ 3"
   ]
  },
  {
   "cell_type": "code",
   "execution_count": null,
   "metadata": {
    "execution": {
     "iopub.execute_input": "2022-11-02T23:18:51.001183Z",
     "iopub.status.busy": "2022-11-02T23:18:51.000913Z",
     "iopub.status.idle": "2022-11-02T23:19:23.209381Z",
     "shell.execute_reply": "2022-11-02T23:19:23.208470Z"
    },
    "tags": []
   },
   "outputs": [],
   "source": [
    "def simulate_one_HERS_statistic():\n",
    "    ...\n",
    "HERS_test_statistics = ...\n",
    "for i in np.arange(1000):\n",
    "    new_HERS_statistic = ...\n",
    "    HERS_test_statistics = ..."
   ]
  },
  {
   "cell_type": "code",
   "execution_count": null,
   "metadata": {
    "deletable": false,
    "editable": false
   },
   "outputs": [],
   "source": [
    "grader.check(\"task_3_2_3\")"
   ]
  },
  {
   "cell_type": "markdown",
   "metadata": {},
   "source": [
    "The code below generates a histogram of the simulated test statistics along with your test statistic:"
   ]
  },
  {
   "cell_type": "code",
   "execution_count": null,
   "metadata": {
    "execution": {
     "iopub.execute_input": "2022-11-02T23:19:23.275305Z",
     "iopub.status.busy": "2022-11-02T23:19:23.274969Z",
     "iopub.status.idle": "2022-11-02T23:19:23.527217Z",
     "shell.execute_reply": "2022-11-02T23:19:23.526200Z"
    }
   },
   "outputs": [],
   "source": [
    "Table().with_column('Simulated test statistics', HERS_test_statistics).hist(bins=np.arange(0,.04,.003))\n",
    "plots.scatter(HERS_test_statistic(HERS), 0, color='red', s=60, zorder=3);"
   ]
  },
  {
   "cell_type": "markdown",
   "metadata": {},
   "source": [
    "#### Task 3.2.4 📍"
   ]
  },
  {
   "cell_type": "markdown",
   "metadata": {},
   "source": [
    "Compute the P-value for your hypothesis test and assign it to `HERS_pval`. \n",
    "\n",
    "\n",
    "_Points:_ 2"
   ]
  },
  {
   "cell_type": "code",
   "execution_count": null,
   "metadata": {
    "execution": {
     "iopub.execute_input": "2022-11-02T23:19:23.531703Z",
     "iopub.status.busy": "2022-11-02T23:19:23.531380Z",
     "iopub.status.idle": "2022-11-02T23:19:23.537373Z",
     "shell.execute_reply": "2022-11-02T23:19:23.536545Z"
    },
    "tags": []
   },
   "outputs": [],
   "source": [
    "HERS_pval = ...\n",
    "HERS_pval"
   ]
  },
  {
   "cell_type": "code",
   "execution_count": null,
   "metadata": {
    "deletable": false,
    "editable": false
   },
   "outputs": [],
   "source": [
    "grader.check(\"task_3_2_4\")"
   ]
  },
  {
   "cell_type": "markdown",
   "metadata": {},
   "source": [
    "In part 3, we gave you 2001 bootstrapped relative risks. In the context of the HERS trial, relative risk is now defined as the ratio of the probability that a given woman in the treatment group will have CHD over the study period divided by the probability that a given woman in the control group will have CHD over the study period.\n",
    "\n",
    "We plot the histogram of bootstrapped relative risks, along with a confidence interval representing the middle 95% of that histogram:\n",
    "<img src=\"bootstrap-HERS.png\" width=400>"
   ]
  },
  {
   "cell_type": "markdown",
   "metadata": {},
   "source": [
    "#### Task 3.2.5. 📍🔎"
   ]
  },
  {
   "cell_type": "markdown",
   "metadata": {},
   "source": [
    "<!-- BEGIN QUESTION -->\n",
    "\n",
    "Based on the results for this experiment using HERS data, can we reject our null hypothesis that HRT has no effect on CHD risk? Provide a yes/no response, and explain why or why not using both the p-value and 95% confidence interval.\n",
    "\n",
    "*Hint*: If you're not sure how to interpret relative risks, go back to Task 3 of Nurses' Health Study section.\n",
    "\n",
    "\n",
    "_Points:_ 2"
   ]
  },
  {
   "cell_type": "markdown",
   "metadata": {},
   "source": [
    "_Type your answer here, replacing this text._"
   ]
  },
  {
   "cell_type": "markdown",
   "metadata": {},
   "source": [
    "<!-- END QUESTION -->\n",
    "\n",
    "The Heart and Estrogen-Progestin Replacement Study found that HRT did not have a significant impact on a woman's risk of CHD. These findings contradicted the results of the Nurses' Heart study, challenging the efficacy of a treatment that had become the standard of care for heart disease prevention. \n",
    "\n",
    "The HERS study authors put forward a possible answer regarding why the NHS study might be biased:\n",
    "> However, the observed association between estrogen therapy and reduced CHD risk might be attributable to selection bias if women who choose to take hormones are healthier and have a more favorable CHD profile than those who do not. Observational studies cannot resolve this uncertainty.\n",
    "\n",
    "**Selection bias** occurs in observational studies when there is a systematic difference between participants that receive a treatment and participants that do not receive a treatment. When this type of bias is present, the observed treatment effect might be a result of an unmeasured confounding variable."
   ]
  },
  {
   "cell_type": "markdown",
   "metadata": {},
   "source": [
    "#### Task 3.2.6. 📍🔎"
   ]
  },
  {
   "cell_type": "markdown",
   "metadata": {},
   "source": [
    "<!-- BEGIN QUESTION -->\n",
    "\n",
    "1. If women who choose to take hormones are healthier to begin with than women who choose not to, why might that systematically bias the results of observational studies like the NHS? \n",
    "2. Would we expect observational studies to overestimate or underestimate the protective effect of HRT?\n",
    "\n",
    "\n",
    "_Points:_ 2"
   ]
  },
  {
   "cell_type": "markdown",
   "metadata": {},
   "source": [
    "_Type your answer here, replacing this text._"
   ]
  },
  {
   "cell_type": "markdown",
   "metadata": {},
   "source": [
    "<!-- END QUESTION -->\n",
    "\n",
    "### Further reading\n",
    "\n",
    "If you're interested in learning more, you can check out these articles:\n",
    "\n",
    "* [Origin story of the Framingham Heart Study](https://www.ncbi.nlm.nih.gov/pmc/articles/PMC1449227/)\n",
    "* [NYT article on the Nurses' Health Study and the HERS study](https://www.nytimes.com/2003/04/22/science/hormone-studies-what-went-wrong.html)"
   ]
  },
  {
   "cell_type": "markdown",
   "metadata": {},
   "source": [
    "## 🧈 Part 4: Diet and Cardiovascular Disease"
   ]
  },
  {
   "cell_type": "markdown",
   "metadata": {},
   "source": [
    "To establish a causal link between saturated fat intake, serum cholesterol, and heart disease, a group of doctors in the US established the National Heart-Diet Study. The study was based in 6 centers: Baltimore, Boston, Chicago, Minneapolis-St. Paul, Oakland, and Faribault, MN. The first 5 centers recruited volunteers from the local population: volunteers and their families were asked to adjust their diet to include more or less saturated fat.\n",
    "\n",
    "You may already have a strong intuition about what the doctors concluded in their findings, but the evidence from the trial was surprisingly complex.\n",
    "\n",
    "The sixth center was organized by Dr. Ivan Frantz, and its study was known as the Minnesota Coronary Experiment. Dr. Frantz was a strong proponent of reducing saturated fats to prevent death from heart disease. He believed so strongly in the idea that he placed his household on a strict diet very low in saturated fats. The main difference between the Minnesota Coronary Experiment and the rest of the National Diet-Heart Study was the setting. While the other centers in the study looked at volunteers, Dr. Frantz conducted his study at Faribault State Hospital, which housed patients who were institutionalized due to disabilities or mental illness.\n",
    "\n",
    "In this institution, the subjects were randomly divided into two equal groups: half of the subjects, the **control group**, were fed meals cooked with saturated fats, and the other half, the **diet group**, were fed meals cooked with polyunsaturated fats. For example, the diet group's oils were replaced with corn oils and their butter was replaced with margarine. The subjects did not know which food they were getting, to avoid any potential bias or placebo effect. This type of study is known as a **blind** study.\n",
    "\n",
    "Although standards for informed consent in participation weren't as strict then as they are today, the study was described as follows:\n",
    "\n",
    "*No consent forms were required because the study diets were considered to be acceptable as house diets and the testing was considered to contribute to better patient care.  Prior to beginning the diet phase, the project was explained and sample foods were served. Residents were given the opportunity to decline participation.*\n",
    "\n",
    "Despite the level of detail and effort in the study, the results of the study were never extensively examined until the late 21st century. Over 40 years after the data were collected, Dr. Christopher Ramsden heard about the experiment, and asked Dr. Frantz's son Robert to uncover the files in the Frantz family home's dusty basement. You can learn more about the story of how the data was recovered on the [Revisionist History podcast](http://revisionisthistory.com/episodes/20-the-basement-tapes) or in [Scientific American magazine](https://www.scientificamerican.com/article/records-found-in-dusty-basement-undermine-decades-of-dietary-advice/)."
   ]
  },
  {
   "cell_type": "markdown",
   "metadata": {},
   "source": [
    "### Task 4.1. 📍🔎"
   ]
  },
  {
   "cell_type": "markdown",
   "metadata": {},
   "source": [
    "<!-- BEGIN QUESTION -->\n",
    "\n",
    "While the data from such a study may be useful scientifically, it also raises major ethical concerns. Describe at least one ethical problem with the study conducted at Faribault State Hospital.\n",
    "\n",
    "*Hint*: There isn't necessarily a single right or wrong answer to this question. If you're not sure, some areas of consideration may be the study organizers' selection of participants for the study, as well as their justification for not using consent forms. You could also ask yourself how the project might have been explained to the patients prior to the diet phase, and to what degree were they capable of consent.\n",
    "\n",
    "\n",
    "_Points:_ 2"
   ]
  },
  {
   "cell_type": "markdown",
   "metadata": {},
   "source": [
    "_Type your answer here, replacing this text._"
   ]
  },
  {
   "cell_type": "markdown",
   "metadata": {},
   "source": [
    "<!-- END QUESTION -->\n",
    "\n",
    "In recent years, poor treatment of patients at Faribault State Hospital (and other similar institutions in Minnesota) has come to light: the state has recently [changed patients' gravestones from numbers to their actual names](https://www.tcdailyplanet.net/minnesota-saying-sorry-treatment-persons-disabilities/), and [apologized for inhumane treatment of patients](https://www.tcdailyplanet.net/minnesota-saying-sorry-treatment-persons-disabilities/).|"
   ]
  },
  {
   "cell_type": "markdown",
   "metadata": {},
   "source": [
    "### The Data"
   ]
  },
  {
   "cell_type": "markdown",
   "metadata": {},
   "source": [
    "We want to see whether or not death rates were reduced on low saturated fat diet. Unfortunately, the data for each individual in the 1968 study is not available; only summary statistics are available.  \n",
    "\n",
    "The following table is a summarized version of the data collected in the experiment. "
   ]
  },
  {
   "cell_type": "code",
   "execution_count": null,
   "metadata": {
    "execution": {
     "iopub.execute_input": "2022-11-02T23:19:23.564669Z",
     "iopub.status.busy": "2022-11-02T23:19:23.563864Z",
     "iopub.status.idle": "2022-11-02T23:19:23.586409Z",
     "shell.execute_reply": "2022-11-02T23:19:23.585527Z"
    }
   },
   "outputs": [],
   "source": [
    "mortality_summary = Table.read_table('mortality_summary.csv')\n",
    "mortality_summary"
   ]
  },
  {
   "cell_type": "markdown",
   "metadata": {},
   "source": [
    "In order to test whether eating diet actually reduced death rates, we need to synthetically create a table with one row for each participant in the study. \n",
    "\n",
    "We want to expand the `mortality_summary` table to create a row for each study participant. `minnesota_data` is a table with four columns: \"Age\", \"Condition\", \"Participated\" and \"Died\". Each row contains a specific patient and has their age group and condition as specified in the `mortality_summary` table, a `True` in the \"Participated\" column (since everyone participated in the experiment), and either a `True` or `False` in the \"Died\" column, depending on if they are alive or dead. \n",
    "\n",
    "Run the cell below to view the study data that has been created from the summary statistics. "
   ]
  },
  {
   "cell_type": "code",
   "execution_count": null,
   "metadata": {
    "execution": {
     "iopub.execute_input": "2022-11-02T23:19:23.591111Z",
     "iopub.status.busy": "2022-11-02T23:19:23.590024Z",
     "iopub.status.idle": "2022-11-02T23:19:23.616781Z",
     "shell.execute_reply": "2022-11-02T23:19:23.615830Z"
    }
   },
   "outputs": [],
   "source": [
    "minnesota_data = Table(['Age', 'Condition', 'Died', 'Participated'])\n",
    "for row in mortality_summary.rows:\n",
    "    count = np.arange(0, row.item('Total'))\n",
    "    t = Table().with_column('Died', count < row.item('Deaths'))\n",
    "    t = t.with_column('Age', row.Age)\n",
    "    t = t.with_column('Condition', row.Condition)\n",
    "    t = t.with_column('Participated', True)\n",
    "    minnesota_data.append(t)\n",
    "minnesota_data"
   ]
  },
  {
   "cell_type": "markdown",
   "metadata": {},
   "source": [
    "We'll need to look at the breakdown for death rates for both the treatment (diet) and control groups."
   ]
  },
  {
   "cell_type": "markdown",
   "metadata": {},
   "source": [
    "### Task 4.2. 📍"
   ]
  },
  {
   "cell_type": "markdown",
   "metadata": {},
   "source": [
    "Create a table named `summed_mn_data`, with three columns and two rows. The three columns should be \"Condition\", \"Died sum\", and \"Participated sum\". There should be one row for the diet group and one row for the control group, and each row should encode the total number of people who participated in that group and the total number of people who died in that group. \n",
    "\n",
    "_Points:_ 6"
   ]
  },
  {
   "cell_type": "code",
   "execution_count": null,
   "metadata": {
    "execution": {
     "iopub.execute_input": "2022-11-02T23:19:23.622857Z",
     "iopub.status.busy": "2022-11-02T23:19:23.622232Z",
     "iopub.status.idle": "2022-11-02T23:19:23.726265Z",
     "shell.execute_reply": "2022-11-02T23:19:23.725167Z"
    },
    "tags": []
   },
   "outputs": [],
   "source": [
    "summed_mn_data = ...\n",
    "summed_mn_data"
   ]
  },
  {
   "cell_type": "code",
   "execution_count": null,
   "metadata": {
    "deletable": false,
    "editable": false
   },
   "outputs": [],
   "source": [
    "grader.check(\"task_4_2\")"
   ]
  },
  {
   "cell_type": "markdown",
   "metadata": {},
   "source": [
    "### Running a Hypothesis Test"
   ]
  },
  {
   "cell_type": "markdown",
   "metadata": {},
   "source": [
    "Using the `minnesota_data` data table, we want to explore how change in diet affects death rates among the subjects"
   ]
  },
  {
   "cell_type": "markdown",
   "metadata": {},
   "source": [
    "### Task 4.3. 📍🔎"
   ]
  },
  {
   "cell_type": "markdown",
   "metadata": {},
   "source": [
    "<!-- BEGIN QUESTION -->\n",
    "\n",
    "Set up a null hypothesis and an alternative hypothesis that we can use to answer whether or not the unsaturated fat diet causes different rates of death in the two groups. We are interested in observing any change, not specifically an increase of decrease in death rates.\n",
    "\n",
    "_Points:_ 2"
   ]
  },
  {
   "cell_type": "markdown",
   "metadata": {},
   "source": [
    "_Type your answer here, replacing this text._"
   ]
  },
  {
   "cell_type": "markdown",
   "metadata": {},
   "source": [
    "<!-- END QUESTION -->\n",
    "\n",
    "### Task 4.4. 📍🔎"
   ]
  },
  {
   "cell_type": "markdown",
   "metadata": {},
   "source": [
    "<!-- BEGIN QUESTION -->\n",
    "\n",
    "In thinking of a test statistic, one researcher decides that the absolute difference in the number of people who died in the control group and the number of people who died in the diet group is a sufficient test statistic. Give one **specific** reason why this test statistic **will not** work. \n",
    "\n",
    "_Points:_ 2"
   ]
  },
  {
   "cell_type": "markdown",
   "metadata": {},
   "source": [
    "_Type your answer here, replacing this text._"
   ]
  },
  {
   "cell_type": "markdown",
   "metadata": {},
   "source": [
    "<!-- END QUESTION -->\n",
    "\n",
    "To combat the problem above, we instead decide to use the the absolute difference in hazard rates between the two groups as our test statistic. **The *hazard rate* is defined as the proportion of people who died in a specific group out of the total number who participated in the study from that group.**"
   ]
  },
  {
   "cell_type": "markdown",
   "metadata": {},
   "source": [
    "### Task 4.5. 📍"
   ]
  },
  {
   "cell_type": "markdown",
   "metadata": {},
   "source": [
    "Define a new table `summed_mn_hazard_data` that contains the columns of `summed_mn_data` along with an additional column, `Hazard Rate`, that contains the hazard rates for each condition.\n",
    "\n",
    "_Points:_ 3"
   ]
  },
  {
   "cell_type": "code",
   "execution_count": null,
   "metadata": {
    "execution": {
     "iopub.execute_input": "2022-11-02T23:19:23.790524Z",
     "iopub.status.busy": "2022-11-02T23:19:23.789582Z",
     "iopub.status.idle": "2022-11-02T23:19:23.796496Z",
     "shell.execute_reply": "2022-11-02T23:19:23.795686Z"
    },
    "tags": []
   },
   "outputs": [],
   "source": [
    "summed_mn_hazard_data = ...\n",
    "summed_mn_hazard_data"
   ]
  },
  {
   "cell_type": "code",
   "execution_count": null,
   "metadata": {
    "deletable": false,
    "editable": false
   },
   "outputs": [],
   "source": [
    "grader.check(\"task_4_5\")"
   ]
  },
  {
   "cell_type": "markdown",
   "metadata": {},
   "source": [
    "### Task 4.6. 📍"
   ]
  },
  {
   "cell_type": "markdown",
   "metadata": {},
   "source": [
    "Define a function `compute_hazard_difference` which takes in a table like `summed_mn_hazard_data` and returns the absolute difference between the hazard rates of the control group and the diet group. Use it to get the observed test statistic and assign it to `death_rate_observed_statistic`.\n",
    "\n",
    "\n",
    "_Points:_ 2"
   ]
  },
  {
   "cell_type": "code",
   "execution_count": null,
   "metadata": {
    "execution": {
     "iopub.execute_input": "2022-11-02T23:19:23.831485Z",
     "iopub.status.busy": "2022-11-02T23:19:23.831191Z",
     "iopub.status.idle": "2022-11-02T23:19:23.837562Z",
     "shell.execute_reply": "2022-11-02T23:19:23.836669Z"
    },
    "tags": []
   },
   "outputs": [],
   "source": [
    "def compute_hazard_difference(tbl):\n",
    "    ...\n",
    "\n",
    "death_rate_observed_statistic = compute_hazard_difference(summed_mn_hazard_data)\n",
    "death_rate_observed_statistic"
   ]
  },
  {
   "cell_type": "code",
   "execution_count": null,
   "metadata": {
    "deletable": false,
    "editable": false
   },
   "outputs": [],
   "source": [
    "grader.check(\"task_4_6\")"
   ]
  },
  {
   "cell_type": "markdown",
   "metadata": {},
   "source": [
    "### Task 4.7. 📍"
   ]
  },
  {
   "cell_type": "markdown",
   "metadata": {},
   "source": [
    "We are now in a position to run a hypothesis test to help differentiate between our two hypothesis using our data. Define a function `complete_test` which takes in `tbl` a table like `minnesota_data`. It simulates samples and calculates the rate differences for these samples under the null hypothesis 100 times, and uses them to return a P-Value with respect to our observed data. Note that your function should use the values in `tbl` , and should not refer to `minnesota_table`!\n",
    "\n",
    "Hint: This is a very long, involved problem. Start by outlining the steps you'll need to execute in this function and address each separately. Small steps and comments will be very helpful. You've already written a lot of key steps!\n",
    "\n",
    "Note: Your code may take a couple of minutes to run.\n",
    "\n",
    "\n",
    "_Points:_ 2"
   ]
  },
  {
   "cell_type": "code",
   "execution_count": null,
   "metadata": {
    "execution": {
     "iopub.execute_input": "2022-11-02T23:19:23.861845Z",
     "iopub.status.busy": "2022-11-02T23:19:23.861524Z",
     "iopub.status.idle": "2022-11-02T23:19:35.558569Z",
     "shell.execute_reply": "2022-11-02T23:19:35.557590Z"
    },
    "tags": []
   },
   "outputs": [],
   "source": [
    "def complete_test(t):\n",
    "    ...\n",
    "\n",
    "our_p_value = complete_test(minnesota_data)\n",
    "our_p_value"
   ]
  },
  {
   "cell_type": "code",
   "execution_count": null,
   "metadata": {
    "deletable": false,
    "editable": false
   },
   "outputs": [],
   "source": [
    "grader.check(\"task_4_7\")"
   ]
  },
  {
   "cell_type": "markdown",
   "metadata": {},
   "source": [
    "### Task 4.8. 📍"
   ]
  },
  {
   "cell_type": "markdown",
   "metadata": {},
   "source": [
    "Using the P-Value above, can we conclude that the change in diet causes a difference in death rate? Assume a normal p-value cutoff of 0.05. Set `reject_null` to `True` if we reject the null hypothesis and `False` if we fail to reject the null hypothesis.\n",
    "\n",
    "\n",
    "\n",
    "_Points:_ 2"
   ]
  },
  {
   "cell_type": "code",
   "execution_count": null,
   "metadata": {
    "execution": {
     "iopub.execute_input": "2022-11-02T23:19:35.581793Z",
     "iopub.status.busy": "2022-11-02T23:19:35.581052Z",
     "iopub.status.idle": "2022-11-02T23:19:35.586759Z",
     "shell.execute_reply": "2022-11-02T23:19:35.585884Z"
    },
    "tags": []
   },
   "outputs": [],
   "source": [
    "reject_null = ...\n",
    "reject_null"
   ]
  },
  {
   "cell_type": "code",
   "execution_count": null,
   "metadata": {
    "deletable": false,
    "editable": false
   },
   "outputs": [],
   "source": [
    "grader.check(\"task_4_8\")"
   ]
  },
  {
   "cell_type": "markdown",
   "metadata": {},
   "source": [
    "Congratulations! You have completed your own large scale case study into cause and effect surrounding one of the world's deadliest killers: cardiovascular disease. Your investigation has taken you through two important data sets and across decades of medical research.\n",
    " "
   ]
  },
  {
   "cell_type": "markdown",
   "metadata": {},
   "source": [
    "## 🏁 Submit your Project to Canvas"
   ]
  },
  {
   "cell_type": "markdown",
   "metadata": {
    "deletable": false,
    "editable": false
   },
   "source": [
    "---\n",
    "\n",
    "To double-check your work, the cell below will rerun all of the autograder tests."
   ]
  },
  {
   "cell_type": "code",
   "execution_count": 71,
   "metadata": {
    "deletable": false,
    "editable": false
   },
   "outputs": [
    {
     "data": {
      "text/plain": [
       "task_1_1 results: All test cases passed!\n",
       "task_1_1 - 1 message: ✅ all_unique_causes is an array or list.\n",
       "\n",
       "task_1_2 results: All test cases passed!\n",
       "task_1_2 - 1 message: ✅ Your table has the right column labels.\n",
       "task_1_2 - 2 message: ✅ Your table has the right number of rows.\n",
       "\n",
       "task_1_3 results: All test cases passed!\n",
       "task_1_3 - 1 message: ✅ All the values in disease_trend_explanation are between 1 and 6, inclusive.\n",
       "\n",
       "task_2_1_1 results: All test cases passed!\n",
       "task_2_1_1 - 1 message: ✅ observed_diabetes_distance is between -1 and 1, inclusive.\n",
       "\n",
       "task_2_1_2 results: All test cases passed!\n",
       "task_2_1_2 - 1 message: ✅ diabetes_statistic() returns a float.\n",
       "\n",
       "task_2_1_3 results: All test cases passed!\n",
       "task_2_1_3 - 1 message: ✅ diabetes_simulated_stats has 5000 items.\n",
       "\n",
       "task_2_1_6 results: All test cases passed!\n",
       "task_2_1_6 - 1 message: ✅ framingham_diabetes_explanations is an array.\n",
       "\n",
       "task_2_2_1 results: All test cases passed!\n",
       "task_2_2_1 - 1 message: ✅ ab_reasonable represents a possible value.\n",
       "\n",
       "task_2_2_3 results: All test cases passed!\n",
       "task_2_2_3 - 1 message: ✅ compute_framingham_test_statistic(framingham) returns a float or an integer.\n",
       "\n",
       "task_2_2_4 results: All test cases passed!\n",
       "task_2_2_4 - 1 message: ✅ It seems like simulate_framingham_null() is producing random data.\n",
       "task_2_2_4 - 2 message: ✅ simulate_framingham_null() returns a value less than framingham_observed_statistic.\n",
       "\n",
       "task_2_2_5 results: All test cases passed!\n",
       "task_2_2_5 - 1 message: ✅ framingham_simulated_stats contains 1,000 items.\n",
       "\n",
       "task_2_2_7 results: All test cases passed!\n",
       "task_2_2_7 - 1 message: ✅ framingham_p_value is between 0.0 and 0.05, inclusive.\n",
       "\n",
       "task_3_1_1 results:\n",
       "    task_3_1_1 - 1 message: ❌ Make sure your array only contains the integers that correspond to the correct options, you don't need to calculate each value.\n",
       "\n",
       "    task_3_1_1 - 1 result:\n",
       "        Trying:\n",
       "            sum(nhs_true_statements % 1) == 0\n",
       "        Expecting:\n",
       "            True\n",
       "        **********************************************************************\n",
       "        Line 4, in task_3_1_1 0\n",
       "        Failed example:\n",
       "            sum(nhs_true_statements % 1) == 0\n",
       "        Exception raised:\n",
       "            Traceback (most recent call last):\n",
       "              File \"/opt/conda/lib/python3.10/doctest.py\", line 1350, in __run\n",
       "                exec(compile(example.source, filename, \"single\",\n",
       "              File \"<doctest task_3_1_1 0[0]>\", line 1, in <module>\n",
       "                sum(nhs_true_statements % 1) == 0\n",
       "            NameError: name 'nhs_true_statements' is not defined\n",
       "\n",
       "    task_3_1_1 - 2 message: ❌ nhs_true_statements should be an array contaning some collection of 1, 2, 3, 4, and 5.\n",
       "\n",
       "    task_3_1_1 - 2 result:\n",
       "        Trying:\n",
       "            type(nhs_true_statements) in set([np.ndarray])  and min(nhs_true_statements) >= 1 and max(nhs_true_statements <= 6)\n",
       "        Expecting:\n",
       "            True\n",
       "        **********************************************************************\n",
       "        Line 2, in task_3_1_1 1\n",
       "        Failed example:\n",
       "            type(nhs_true_statements) in set([np.ndarray])  and min(nhs_true_statements) >= 1 and max(nhs_true_statements <= 6)\n",
       "        Exception raised:\n",
       "            Traceback (most recent call last):\n",
       "              File \"/opt/conda/lib/python3.10/doctest.py\", line 1350, in __run\n",
       "                exec(compile(example.source, filename, \"single\",\n",
       "              File \"<doctest task_3_1_1 1[0]>\", line 1, in <module>\n",
       "                type(nhs_true_statements) in set([np.ndarray])  and min(nhs_true_statements) >= 1 and max(nhs_true_statements <= 6)\n",
       "            NameError: name 'nhs_true_statements' is not defined\n",
       "\n",
       "task_3_1_2 results:\n",
       "    task_3_1_2 - 1 message: ❌ event_result should be an array\n",
       "\n",
       "    task_3_1_2 - 1 result:\n",
       "        Trying:\n",
       "            type(event_result) in set([np.ndarray])\n",
       "        Expecting:\n",
       "            True\n",
       "        **********************************************************************\n",
       "        Line 2, in task_3_1_2 0\n",
       "        Failed example:\n",
       "            type(event_result) in set([np.ndarray])\n",
       "        Exception raised:\n",
       "            Traceback (most recent call last):\n",
       "              File \"/opt/conda/lib/python3.10/doctest.py\", line 1350, in __run\n",
       "                exec(compile(example.source, filename, \"single\",\n",
       "              File \"<doctest task_3_1_2 0[0]>\", line 1, in <module>\n",
       "                type(event_result) in set([np.ndarray])\n",
       "            NameError: name 'event_result' is not defined\n",
       "\n",
       "    task_3_1_2 - 2 message: ❌ event_result should contain 5 items.\n",
       "\n",
       "    task_3_1_2 - 2 result:\n",
       "        Trying:\n",
       "            len(event_result) == 5\n",
       "        Expecting:\n",
       "            True\n",
       "        **********************************************************************\n",
       "        Line 2, in task_3_1_2 1\n",
       "        Failed example:\n",
       "            len(event_result) == 5\n",
       "        Exception raised:\n",
       "            Traceback (most recent call last):\n",
       "              File \"/opt/conda/lib/python3.10/doctest.py\", line 1350, in __run\n",
       "                exec(compile(example.source, filename, \"single\",\n",
       "              File \"<doctest task_3_1_2 1[0]>\", line 1, in <module>\n",
       "                len(event_result) == 5\n",
       "            NameError: name 'event_result' is not defined\n",
       "\n",
       "    task_3_1_2 - 3 message: ❌ Every element of your list should be a string.\n",
       "\n",
       "    task_3_1_2 - 3 result:\n",
       "        Trying:\n",
       "            [type(i) in set([np.str_, str]) for i in event_result]\n",
       "        Expecting:\n",
       "            [True, True, True, True, True]\n",
       "        **********************************************************************\n",
       "        Line 2, in task_3_1_2 2\n",
       "        Failed example:\n",
       "            [type(i) in set([np.str_, str]) for i in event_result]\n",
       "        Exception raised:\n",
       "            Traceback (most recent call last):\n",
       "              File \"/opt/conda/lib/python3.10/doctest.py\", line 1350, in __run\n",
       "                exec(compile(example.source, filename, \"single\",\n",
       "              File \"<doctest task_3_1_2 2[0]>\", line 1, in <module>\n",
       "                [type(i) in set([np.str_, str]) for i in event_result]\n",
       "            NameError: name 'event_result' is not defined\n",
       "\n",
       "task_3_1_3 results:\n",
       "    task_3_1_3 - 1 message: ❌ Make sure that blank1_1, blank2_1, and blank3_1 are set to one of the following options: 'greater than', 'less than', or 'equal to\n",
       "\n",
       "    task_3_1_3 - 1 result:\n",
       "        Trying:\n",
       "            check_options = [1 if i in ['greater than', 'less than', 'equal to'] else 0 for i in [blank1_1, blank2_1, blank3_1]]\n",
       "        Expecting nothing\n",
       "        **********************************************************************\n",
       "        Line 2, in task_3_1_3 0\n",
       "        Failed example:\n",
       "            check_options = [1 if i in ['greater than', 'less than', 'equal to'] else 0 for i in [blank1_1, blank2_1, blank3_1]]\n",
       "        Exception raised:\n",
       "            Traceback (most recent call last):\n",
       "              File \"/opt/conda/lib/python3.10/doctest.py\", line 1350, in __run\n",
       "                exec(compile(example.source, filename, \"single\",\n",
       "              File \"<doctest task_3_1_3 0[0]>\", line 1, in <module>\n",
       "                check_options = [1 if i in ['greater than', 'less than', 'equal to'] else 0 for i in [blank1_1, blank2_1, blank3_1]]\n",
       "            NameError: name 'blank1_1' is not defined\n",
       "        Trying:\n",
       "            sum(check_options) == 3\n",
       "        Expecting:\n",
       "            True\n",
       "        **********************************************************************\n",
       "        Line 3, in task_3_1_3 0\n",
       "        Failed example:\n",
       "            sum(check_options) == 3\n",
       "        Exception raised:\n",
       "            Traceback (most recent call last):\n",
       "              File \"/opt/conda/lib/python3.10/doctest.py\", line 1350, in __run\n",
       "                exec(compile(example.source, filename, \"single\",\n",
       "              File \"<doctest task_3_1_3 0[1]>\", line 1, in <module>\n",
       "                sum(check_options) == 3\n",
       "            NameError: name 'check_options' is not defined\n",
       "\n",
       "    task_3_1_3 - 2 message: ❌ Make sure that blank1_2, blank2_2, and blank3_2 are set to one of the following options: 'higher', 'lower', or 'equal'\n",
       "\n",
       "    task_3_1_3 - 2 result:\n",
       "        Trying:\n",
       "            check_options = [1 if i in ['higher', 'lower', 'equal'] else 0 for i in [blank1_2, blank2_2, blank3_2]]\n",
       "        Expecting nothing\n",
       "        **********************************************************************\n",
       "        Line 2, in task_3_1_3 1\n",
       "        Failed example:\n",
       "            check_options = [1 if i in ['higher', 'lower', 'equal'] else 0 for i in [blank1_2, blank2_2, blank3_2]]\n",
       "        Exception raised:\n",
       "            Traceback (most recent call last):\n",
       "              File \"/opt/conda/lib/python3.10/doctest.py\", line 1350, in __run\n",
       "                exec(compile(example.source, filename, \"single\",\n",
       "              File \"<doctest task_3_1_3 1[0]>\", line 1, in <module>\n",
       "                check_options = [1 if i in ['higher', 'lower', 'equal'] else 0 for i in [blank1_2, blank2_2, blank3_2]]\n",
       "            NameError: name 'blank1_2' is not defined\n",
       "        Trying:\n",
       "            sum(check_options) == 3\n",
       "        Expecting:\n",
       "            True\n",
       "        **********************************************************************\n",
       "        Line 3, in task_3_1_3 1\n",
       "        Failed example:\n",
       "            sum(check_options) == 3\n",
       "        Exception raised:\n",
       "            Traceback (most recent call last):\n",
       "              File \"/opt/conda/lib/python3.10/doctest.py\", line 1350, in __run\n",
       "                exec(compile(example.source, filename, \"single\",\n",
       "              File \"<doctest task_3_1_3 1[1]>\", line 1, in <module>\n",
       "                sum(check_options) == 3\n",
       "            NameError: name 'check_options' is not defined\n",
       "\n",
       "task_3_1_4 results:\n",
       "    task_3_1_4 - 1 message: ❌ relative_risk(NHS) should return a float.\n",
       "\n",
       "    task_3_1_4 - 1 result:\n",
       "        Trying:\n",
       "            type(relative_risk(NHS)) in set([float, np.float64])\n",
       "        Expecting:\n",
       "            True\n",
       "        **********************************************************************\n",
       "        Line 2, in task_3_1_4 0\n",
       "        Failed example:\n",
       "            type(relative_risk(NHS)) in set([float, np.float64])\n",
       "        Exception raised:\n",
       "            Traceback (most recent call last):\n",
       "              File \"/opt/conda/lib/python3.10/doctest.py\", line 1350, in __run\n",
       "                exec(compile(example.source, filename, \"single\",\n",
       "              File \"<doctest task_3_1_4 0[0]>\", line 1, in <module>\n",
       "                type(relative_risk(NHS)) in set([float, np.float64])\n",
       "            NameError: name 'relative_risk' is not defined\n",
       "\n",
       "    task_3_1_4 - 2 message: ❌ relative_risk(NHS) doen't return a reasonable value.\n",
       "\n",
       "    task_3_1_4 - 2 result:\n",
       "        Trying:\n",
       "            np.isclose(round(float(relative_risk(NHS)), 3) - 0.474, 0)\n",
       "        Expecting:\n",
       "            True\n",
       "        **********************************************************************\n",
       "        Line 2, in task_3_1_4 1\n",
       "        Failed example:\n",
       "            np.isclose(round(float(relative_risk(NHS)), 3) - 0.474, 0)\n",
       "        Exception raised:\n",
       "            Traceback (most recent call last):\n",
       "              File \"/opt/conda/lib/python3.10/doctest.py\", line 1350, in __run\n",
       "                exec(compile(example.source, filename, \"single\",\n",
       "              File \"<doctest task_3_1_4 1[0]>\", line 1, in <module>\n",
       "                np.isclose(round(float(relative_risk(NHS)), 3) - 0.474, 0)\n",
       "            NameError: name 'relative_risk' is not defined\n",
       "\n",
       "task_3_1_5 results:\n",
       "    task_3_1_5 - 1 message: ❌ The values in bootstrap_rrs doen't seem reasonable.\n",
       "\n",
       "    task_3_1_5 - 1 result:\n",
       "        Trying:\n",
       "            0 < min(bootstrap_rrs) <= max(bootstrap_rrs) < 1\n",
       "        Expecting:\n",
       "            True\n",
       "        **********************************************************************\n",
       "        Line 2, in task_3_1_5 0\n",
       "        Failed example:\n",
       "            0 < min(bootstrap_rrs) <= max(bootstrap_rrs) < 1\n",
       "        Exception raised:\n",
       "            Traceback (most recent call last):\n",
       "              File \"/opt/conda/lib/python3.10/doctest.py\", line 1350, in __run\n",
       "                exec(compile(example.source, filename, \"single\",\n",
       "              File \"<doctest task_3_1_5 0[0]>\", line 1, in <module>\n",
       "                0 < min(bootstrap_rrs) <= max(bootstrap_rrs) < 1\n",
       "            NameError: name 'bootstrap_rrs' is not defined\n",
       "\n",
       "task_3_1_6 results:\n",
       "    task_3_1_6 - 1 message: ❌ ci_left should be betwen 0 and 1, inclusive.\n",
       "\n",
       "    task_3_1_6 - 1 result:\n",
       "        Trying:\n",
       "            0 <= ci_left <= 1\n",
       "        Expecting:\n",
       "            True\n",
       "        **********************************************************************\n",
       "        Line 2, in task_3_1_6 0\n",
       "        Failed example:\n",
       "            0 <= ci_left <= 1\n",
       "        Exception raised:\n",
       "            Traceback (most recent call last):\n",
       "              File \"/opt/conda/lib/python3.10/doctest.py\", line 1350, in __run\n",
       "                exec(compile(example.source, filename, \"single\",\n",
       "              File \"<doctest task_3_1_6 0[0]>\", line 1, in <module>\n",
       "                0 <= ci_left <= 1\n",
       "            NameError: name 'ci_left' is not defined\n",
       "\n",
       "    task_3_1_6 - 2 message: ❌ ci_right should be betwen 0 and 1, inclusive.\n",
       "\n",
       "    task_3_1_6 - 2 result:\n",
       "        Trying:\n",
       "            0 <= ci_right <= 1\n",
       "        Expecting:\n",
       "            True\n",
       "        **********************************************************************\n",
       "        Line 2, in task_3_1_6 1\n",
       "        Failed example:\n",
       "            0 <= ci_right <= 1\n",
       "        Exception raised:\n",
       "            Traceback (most recent call last):\n",
       "              File \"/opt/conda/lib/python3.10/doctest.py\", line 1350, in __run\n",
       "                exec(compile(example.source, filename, \"single\",\n",
       "              File \"<doctest task_3_1_6 1[0]>\", line 1, in <module>\n",
       "                0 <= ci_right <= 1\n",
       "            NameError: name 'ci_right' is not defined\n",
       "\n",
       "task_3_1_7 results:\n",
       "    task_3_1_7 - 1 message: ❌ ci_statements should be an array\n",
       "\n",
       "    task_3_1_7 - 1 result:\n",
       "        Trying:\n",
       "            type(ci_statements) in set([np.ndarray])\n",
       "        Expecting:\n",
       "            True\n",
       "        **********************************************************************\n",
       "        Line 3, in task_3_1_7 0\n",
       "        Failed example:\n",
       "            type(ci_statements) in set([np.ndarray])\n",
       "        Exception raised:\n",
       "            Traceback (most recent call last):\n",
       "              File \"/opt/conda/lib/python3.10/doctest.py\", line 1350, in __run\n",
       "                exec(compile(example.source, filename, \"single\",\n",
       "              File \"<doctest task_3_1_7 0[0]>\", line 1, in <module>\n",
       "                type(ci_statements) in set([np.ndarray])\n",
       "            NameError: name 'ci_statements' is not defined\n",
       "\n",
       "task_3_2_1 results:\n",
       "    task_3_2_1 - 1 message: ❌ good_ts should be an array.\n",
       "\n",
       "    task_3_2_1 - 1 result:\n",
       "        Trying:\n",
       "            type(good_ts) == np.ndarray\n",
       "        Expecting:\n",
       "            True\n",
       "        **********************************************************************\n",
       "        Line 2, in task_3_2_1 0\n",
       "        Failed example:\n",
       "            type(good_ts) == np.ndarray\n",
       "        Exception raised:\n",
       "            Traceback (most recent call last):\n",
       "              File \"/opt/conda/lib/python3.10/doctest.py\", line 1350, in __run\n",
       "                exec(compile(example.source, filename, \"single\",\n",
       "              File \"<doctest task_3_2_1 0[0]>\", line 1, in <module>\n",
       "                type(good_ts) == np.ndarray\n",
       "            NameError: name 'good_ts' is not defined\n",
       "\n",
       "task_3_2_2 results:\n",
       "    task_3_2_2 - 1 message: ❌ observed_HERS_test_statistic should be a float.\n",
       "\n",
       "    task_3_2_2 - 1 result:\n",
       "        Trying:\n",
       "            type(observed_HERS_test_statistic) in set([float, np.float64])\n",
       "        Expecting:\n",
       "            True\n",
       "        **********************************************************************\n",
       "        Line 2, in task_3_2_2 0\n",
       "        Failed example:\n",
       "            type(observed_HERS_test_statistic) in set([float, np.float64])\n",
       "        Exception raised:\n",
       "            Traceback (most recent call last):\n",
       "              File \"/opt/conda/lib/python3.10/doctest.py\", line 1350, in __run\n",
       "                exec(compile(example.source, filename, \"single\",\n",
       "              File \"<doctest task_3_2_2 0[0]>\", line 1, in <module>\n",
       "                type(observed_HERS_test_statistic) in set([float, np.float64])\n",
       "            NameError: name 'observed_HERS_test_statistic' is not defined\n",
       "\n",
       "task_3_2_3 results:\n",
       "    task_3_2_3 - 1 message: ❌ HERS_test_statistics should have 1,000 items.\n",
       "\n",
       "    task_3_2_3 - 1 result:\n",
       "        Trying:\n",
       "            len(HERS_test_statistics) == 1000\n",
       "        Expecting:\n",
       "            True\n",
       "        **********************************************************************\n",
       "        Line 2, in task_3_2_3 0\n",
       "        Failed example:\n",
       "            len(HERS_test_statistics) == 1000\n",
       "        Exception raised:\n",
       "            Traceback (most recent call last):\n",
       "              File \"/opt/conda/lib/python3.10/doctest.py\", line 1350, in __run\n",
       "                exec(compile(example.source, filename, \"single\",\n",
       "              File \"<doctest task_3_2_3 0[0]>\", line 1, in <module>\n",
       "                len(HERS_test_statistics) == 1000\n",
       "            NameError: name 'HERS_test_statistics' is not defined\n",
       "\n",
       "    task_3_2_3 - 2 message: ❌ The smallest value in HERS_test_statistics is not in a possible interval.\n",
       "\n",
       "    task_3_2_3 - 2 result:\n",
       "        Trying:\n",
       "            0 <= min(HERS_test_statistics) <= 0.055\n",
       "        Expecting:\n",
       "            True\n",
       "        **********************************************************************\n",
       "        Line 2, in task_3_2_3 1\n",
       "        Failed example:\n",
       "            0 <= min(HERS_test_statistics) <= 0.055\n",
       "        Exception raised:\n",
       "            Traceback (most recent call last):\n",
       "              File \"/opt/conda/lib/python3.10/doctest.py\", line 1350, in __run\n",
       "                exec(compile(example.source, filename, \"single\",\n",
       "              File \"<doctest task_3_2_3 1[0]>\", line 1, in <module>\n",
       "                0 <= min(HERS_test_statistics) <= 0.055\n",
       "            NameError: name 'HERS_test_statistics' is not defined\n",
       "\n",
       "task_3_2_4 results:\n",
       "    task_3_2_4 - 1 message: ❌ HERS_pval should represent a float.\n",
       "\n",
       "    task_3_2_4 - 1 result:\n",
       "        Trying:\n",
       "            type(HERS_pval) in set([float, np.float64])\n",
       "        Expecting:\n",
       "            True\n",
       "        **********************************************************************\n",
       "        Line 2, in task_3_2_4 0\n",
       "        Failed example:\n",
       "            type(HERS_pval) in set([float, np.float64])\n",
       "        Exception raised:\n",
       "            Traceback (most recent call last):\n",
       "              File \"/opt/conda/lib/python3.10/doctest.py\", line 1350, in __run\n",
       "                exec(compile(example.source, filename, \"single\",\n",
       "              File \"<doctest task_3_2_4 0[0]>\", line 1, in <module>\n",
       "                type(HERS_pval) in set([float, np.float64])\n",
       "            NameError: name 'HERS_pval' is not defined\n",
       "\n",
       "task_4_2 results:\n",
       "    task_4_2 - 1 message: ❌ summed_mn_data should have 2 rows.\n",
       "\n",
       "    task_4_2 - 1 result:\n",
       "        Trying:\n",
       "            summed_mn_data.num_rows == 2\n",
       "        Expecting:\n",
       "            True\n",
       "        **********************************************************************\n",
       "        Line 2, in task_4_2 0\n",
       "        Failed example:\n",
       "            summed_mn_data.num_rows == 2\n",
       "        Exception raised:\n",
       "            Traceback (most recent call last):\n",
       "              File \"/opt/conda/lib/python3.10/doctest.py\", line 1350, in __run\n",
       "                exec(compile(example.source, filename, \"single\",\n",
       "              File \"<doctest task_4_2 0[0]>\", line 1, in <module>\n",
       "                summed_mn_data.num_rows == 2\n",
       "            NameError: name 'summed_mn_data' is not defined\n",
       "\n",
       "    task_4_2 - 2 message: ❌ summed_mn_data should have 3 columns\n",
       "\n",
       "    task_4_2 - 2 result:\n",
       "        Trying:\n",
       "            len(summed_mn_data.labels) == 3\n",
       "        Expecting:\n",
       "            True\n",
       "        **********************************************************************\n",
       "        Line 2, in task_4_2 1\n",
       "        Failed example:\n",
       "            len(summed_mn_data.labels) == 3\n",
       "        Exception raised:\n",
       "            Traceback (most recent call last):\n",
       "              File \"/opt/conda/lib/python3.10/doctest.py\", line 1350, in __run\n",
       "                exec(compile(example.source, filename, \"single\",\n",
       "              File \"<doctest task_4_2 1[0]>\", line 1, in <module>\n",
       "                len(summed_mn_data.labels) == 3\n",
       "            NameError: name 'summed_mn_data' is not defined\n",
       "\n",
       "task_4_5 results:\n",
       "    task_4_5 - 1 message: ❌ summed_mn_hazard_data should have 2 rows.\n",
       "\n",
       "    task_4_5 - 1 result:\n",
       "        Trying:\n",
       "            summed_mn_hazard_data.num_rows == 2\n",
       "        Expecting:\n",
       "            True\n",
       "        **********************************************************************\n",
       "        Line 2, in task_4_5 0\n",
       "        Failed example:\n",
       "            summed_mn_hazard_data.num_rows == 2\n",
       "        Exception raised:\n",
       "            Traceback (most recent call last):\n",
       "              File \"/opt/conda/lib/python3.10/doctest.py\", line 1350, in __run\n",
       "                exec(compile(example.source, filename, \"single\",\n",
       "              File \"<doctest task_4_5 0[0]>\", line 1, in <module>\n",
       "                summed_mn_hazard_data.num_rows == 2\n",
       "            NameError: name 'summed_mn_hazard_data' is not defined\n",
       "\n",
       "    task_4_5 - 2 message: ❌ summed_mn_hazard_data should have 4 columns.\n",
       "\n",
       "    task_4_5 - 2 result:\n",
       "        Trying:\n",
       "            len(summed_mn_hazard_data.labels) == 4\n",
       "        Expecting:\n",
       "            True\n",
       "        **********************************************************************\n",
       "        Line 2, in task_4_5 1\n",
       "        Failed example:\n",
       "            len(summed_mn_hazard_data.labels) == 4\n",
       "        Exception raised:\n",
       "            Traceback (most recent call last):\n",
       "              File \"/opt/conda/lib/python3.10/doctest.py\", line 1350, in __run\n",
       "                exec(compile(example.source, filename, \"single\",\n",
       "              File \"<doctest task_4_5 1[0]>\", line 1, in <module>\n",
       "                len(summed_mn_hazard_data.labels) == 4\n",
       "            NameError: name 'summed_mn_hazard_data' is not defined\n",
       "\n",
       "task_4_6 results:\n",
       "    task_4_6 - 1 message: ❌ death_rate_observed_statistic should be a float.\n",
       "\n",
       "    task_4_6 - 1 result:\n",
       "        Trying:\n",
       "            type(death_rate_observed_statistic) in set([float, np.float64])\n",
       "        Expecting:\n",
       "            True\n",
       "        **********************************************************************\n",
       "        Line 2, in task_4_6 0\n",
       "        Failed example:\n",
       "            type(death_rate_observed_statistic) in set([float, np.float64])\n",
       "        Exception raised:\n",
       "            Traceback (most recent call last):\n",
       "              File \"/opt/conda/lib/python3.10/doctest.py\", line 1350, in __run\n",
       "                exec(compile(example.source, filename, \"single\",\n",
       "              File \"<doctest task_4_6 0[0]>\", line 1, in <module>\n",
       "                type(death_rate_observed_statistic) in set([float, np.float64])\n",
       "            NameError: name 'death_rate_observed_statistic' is not defined\n",
       "\n",
       "task_4_7 results:\n",
       "    task_4_7 - 1 message: ❌ our_p_value should be a float.\n",
       "\n",
       "    task_4_7 - 1 result:\n",
       "        Trying:\n",
       "            type(our_p_value) in set([float, np.float64])\n",
       "        Expecting:\n",
       "            True\n",
       "        **********************************************************************\n",
       "        Line 2, in task_4_7 0\n",
       "        Failed example:\n",
       "            type(our_p_value) in set([float, np.float64])\n",
       "        Exception raised:\n",
       "            Traceback (most recent call last):\n",
       "              File \"/opt/conda/lib/python3.10/doctest.py\", line 1350, in __run\n",
       "                exec(compile(example.source, filename, \"single\",\n",
       "              File \"<doctest task_4_7 0[0]>\", line 1, in <module>\n",
       "                type(our_p_value) in set([float, np.float64])\n",
       "            NameError: name 'our_p_value' is not defined\n",
       "\n",
       "    task_4_7 - 2 message: ❌ our_p_value should be between 0 and 1.\n",
       "\n",
       "    task_4_7 - 2 result:\n",
       "        Trying:\n",
       "            0 < our_p_value < 1\n",
       "        Expecting:\n",
       "            True\n",
       "        **********************************************************************\n",
       "        Line 2, in task_4_7 1\n",
       "        Failed example:\n",
       "            0 < our_p_value < 1\n",
       "        Exception raised:\n",
       "            Traceback (most recent call last):\n",
       "              File \"/opt/conda/lib/python3.10/doctest.py\", line 1350, in __run\n",
       "                exec(compile(example.source, filename, \"single\",\n",
       "              File \"<doctest task_4_7 1[0]>\", line 1, in <module>\n",
       "                0 < our_p_value < 1\n",
       "            NameError: name 'our_p_value' is not defined\n",
       "\n",
       "task_4_8 results:\n",
       "    task_4_8 - 1 message: ❌ reject_null is not a possible value.\n",
       "\n",
       "    task_4_8 - 1 result:\n",
       "        Trying:\n",
       "            reject_null in make_array(True, False)\n",
       "        Expecting:\n",
       "            True\n",
       "        **********************************************************************\n",
       "        Line 2, in task_4_8 0\n",
       "        Failed example:\n",
       "            reject_null in make_array(True, False)\n",
       "        Exception raised:\n",
       "            Traceback (most recent call last):\n",
       "              File \"/opt/conda/lib/python3.10/doctest.py\", line 1350, in __run\n",
       "                exec(compile(example.source, filename, \"single\",\n",
       "              File \"<doctest task_4_8 0[0]>\", line 1, in <module>\n",
       "                reject_null in make_array(True, False)\n",
       "            NameError: name 'reject_null' is not defined"
      ]
     },
     "execution_count": 71,
     "metadata": {},
     "output_type": "execute_result"
    }
   ],
   "source": [
    "grader.check_all()"
   ]
  },
  {
   "cell_type": "code",
   "execution_count": null,
   "metadata": {},
   "outputs": [],
   "source": []
  }
 ],
 "metadata": {
  "hide_input": false,
  "kernelspec": {
   "display_name": "Python 3 (ipykernel)",
   "language": "python",
   "name": "python3"
  },
  "language_info": {
   "codemirror_mode": {
    "name": "ipython",
    "version": 3
   },
   "file_extension": ".py",
   "mimetype": "text/x-python",
   "name": "python",
   "nbconvert_exporter": "python",
   "pygments_lexer": "ipython3",
   "version": "3.9.13"
  },
  "otter": {
   "tests": {
    "task_1_1": {
     "name": "task_1_1",
     "points": 2,
     "suites": [
      {
       "cases": [
        {
         "code": ">>> \n>>> type(all_unique_causes) in [np.ndarray, list]\nTrue",
         "failure_message": "❌ all_unique_causes should be an array or list.",
         "hidden": false,
         "locked": false,
         "points": 1,
         "success_message": "✅ all_unique_causes is an array or list."
        }
       ],
       "scored": true,
       "setup": "",
       "teardown": "",
       "type": "doctest"
      }
     ]
    },
    "task_1_2": {
     "name": "task_1_2",
     "points": 2,
     "suites": [
      {
       "cases": [
        {
         "code": ">>> \n>>> set(causes_for_plotting.labels) == set(['Year', 'Accidents', 'Cancer', 'Heart Disease', 'Influenza and Pneumonia', 'Stroke'])\nTrue",
         "failure_message": "❌ Your table doesn't have the right column labels.",
         "hidden": false,
         "locked": false,
         "points": 1,
         "success_message": "✅ Your table has the right column labels."
        },
        {
         "code": ">>> \n>>> causes_for_plotting.num_rows == 116\nTrue",
         "failure_message": "❌ Your table doesn't have the right number of rows.",
         "hidden": false,
         "locked": false,
         "points": 1,
         "success_message": "✅ Your table has the right number of rows."
        }
       ],
       "scored": true,
       "setup": "",
       "teardown": "",
       "type": "doctest"
      }
     ]
    },
    "task_1_3": {
     "name": "task_1_3",
     "points": 2,
     "suites": [
      {
       "cases": [
        {
         "code": ">>> \n>>> all(disease_trend_explanation >= 1) and all(disease_trend_explanation <=6)\nTrue",
         "failure_message": "❌ All the values in disease_trend_explanation should be between 1 and 6, inclusive.",
         "hidden": false,
         "locked": false,
         "points": 1,
         "success_message": "✅ All the values in disease_trend_explanation are between 1 and 6, inclusive."
        }
       ],
       "scored": true,
       "setup": "",
       "teardown": "",
       "type": "doctest"
      }
     ]
    },
    "task_2_1_1": {
     "name": "task_2_1_1",
     "points": 2,
     "suites": [
      {
       "cases": [
        {
         "code": ">>> \n>>> -1 <= observed_diabetes_distance <= 1\nTrue",
         "failure_message": "❌ observed_diabetes_distance should be between -1 and 1, inclusive.",
         "hidden": false,
         "locked": false,
         "points": 1,
         "success_message": "✅ observed_diabetes_distance is between -1 and 1, inclusive."
        }
       ],
       "scored": true,
       "setup": "",
       "teardown": "",
       "type": "doctest"
      }
     ]
    },
    "task_2_1_2": {
     "name": "task_2_1_2",
     "points": 2,
     "suites": [
      {
       "cases": [
        {
         "code": ">>> \n>>> type(diabetes_statistic()) in set([float, np.float64])\nTrue",
         "failure_message": "❌ diabetes_statistic() sholud return a float.",
         "hidden": false,
         "locked": false,
         "points": 1,
         "success_message": "✅ diabetes_statistic() returns a float."
        }
       ],
       "scored": true,
       "setup": "",
       "teardown": "",
       "type": "doctest"
      }
     ]
    },
    "task_2_1_3": {
     "name": "task_2_1_3",
     "points": 1,
     "suites": [
      {
       "cases": [
        {
         "code": ">>> \n>>> len(diabetes_simulated_stats) == 5000\nTrue",
         "failure_message": "❌ diabetes_simulated_stats should have 5000 items.",
         "hidden": false,
         "locked": false,
         "points": 1,
         "success_message": "✅ diabetes_simulated_stats has 5000 items."
        }
       ],
       "scored": true,
       "setup": "",
       "teardown": "",
       "type": "doctest"
      }
     ]
    },
    "task_2_1_6": {
     "name": "task_2_1_6",
     "points": 2,
     "suites": [
      {
       "cases": [
        {
         "code": ">>> \n>>> type(framingham_diabetes_explanations) in [np.ndarray]\nTrue",
         "failure_message": "❌ framingham_diabetes_explanations should be an array.",
         "hidden": false,
         "locked": false,
         "points": 1,
         "success_message": "✅ framingham_diabetes_explanations is an array."
        }
       ],
       "scored": true,
       "setup": "",
       "teardown": "",
       "type": "doctest"
      }
     ]
    },
    "task_2_2_1": {
     "name": "task_2_2_1",
     "points": 2,
     "suites": [
      {
       "cases": [
        {
         "code": ">>> \n>>> (ab_reasonable == True) or (ab_reasonable == False)\nTrue",
         "failure_message": "❌ ab_reasonable doesn't represent a possible value.",
         "hidden": false,
         "locked": false,
         "points": 1,
         "success_message": "✅ ab_reasonable represents a possible value."
        }
       ],
       "scored": true,
       "setup": "",
       "teardown": "",
       "type": "doctest"
      }
     ]
    },
    "task_2_2_3": {
     "name": "task_2_2_3",
     "points": 3,
     "suites": [
      {
       "cases": [
        {
         "code": ">>> \n>>> isinstance(compute_framingham_test_statistic(framingham), (float, int, np.integer))\nTrue",
         "failure_message": "❌ compute_framingham_test_statistic(framingham) should return a float or an integer.",
         "hidden": false,
         "locked": false,
         "points": 1,
         "success_message": "✅ compute_framingham_test_statistic(framingham) returns a float or an integer."
        }
       ],
       "scored": true,
       "setup": "",
       "teardown": "",
       "type": "doctest"
      }
     ]
    },
    "task_2_2_4": {
     "name": "task_2_2_4",
     "points": 2,
     "suites": [
      {
       "cases": [
        {
         "code": ">>> \n>>> _framingham_sim1 = simulate_framingham_null()\n>>> _framingham_sim2 = simulate_framingham_null()\n>>> _framingham_sim1 != _framingham_sim2\nTrue",
         "failure_message": "❌ It doesn't seem like simulate_framingham_null() is producing random data.",
         "hidden": false,
         "locked": false,
         "points": 1,
         "success_message": "✅ It seems like simulate_framingham_null() is producing random data."
        },
        {
         "code": ">>> \n>>> _framingham_sim1 = simulate_framingham_null()\n>>> _framingham_sim2 = simulate_framingham_null()\n>>> _framingham_sim1 < framingham_observed_statistic and _framingham_sim2 < framingham_observed_statistic\nTrue",
         "failure_message": "❌ simulate_framingham_null() should return a value less than framingham_observed_statistic.",
         "hidden": false,
         "locked": false,
         "points": 1,
         "success_message": "✅ simulate_framingham_null() returns a value less than framingham_observed_statistic."
        }
       ],
       "scored": true,
       "setup": "",
       "teardown": "",
       "type": "doctest"
      }
     ]
    },
    "task_2_2_5": {
     "name": "task_2_2_5",
     "points": 1,
     "suites": [
      {
       "cases": [
        {
         "code": ">>> \n>>> len(framingham_simulated_stats) == 1000\nTrue",
         "failure_message": "❌ framingham_simulated_stats should contain 1,000 items.",
         "hidden": false,
         "locked": false,
         "points": 1,
         "success_message": "✅ framingham_simulated_stats contains 1,000 items."
        }
       ],
       "scored": true,
       "setup": "",
       "teardown": "",
       "type": "doctest"
      }
     ]
    },
    "task_2_2_7": {
     "name": "task_2_2_7",
     "points": 1,
     "suites": [
      {
       "cases": [
        {
         "code": ">>> \n>>> 0.0 <= framingham_p_value <= 0.05\nTrue",
         "failure_message": "❌ framingham_p_value should be between 0.0 and 0.05, inclusive.",
         "hidden": false,
         "locked": false,
         "points": 1,
         "success_message": "✅ framingham_p_value is between 0.0 and 0.05, inclusive."
        }
       ],
       "scored": true,
       "setup": "",
       "teardown": "",
       "type": "doctest"
      }
     ]
    },
    "task_3_1_1": {
     "name": "task_3_1_1",
     "points": 3,
     "suites": [
      {
       "cases": [
        {
         "code": ">>> \n>>> # Make sure your array only contains the integers that correspond\n>>> # to the correct options, you don't need to calculate each value\n>>> sum(nhs_true_statements % 1) == 0\nTrue",
         "failure_message": "❌ Make sure your array only contains the integers that correspond to the correct options, you don't need to calculate each value.",
         "hidden": false,
         "locked": false,
         "points": 1,
         "success_message": "✅ Good work NOT calcuating each value."
        },
        {
         "code": ">>> \n>>> type(nhs_true_statements) in set([np.ndarray])  and min(nhs_true_statements) >= 1 and max(nhs_true_statements <= 6)\nTrue",
         "failure_message": "❌ nhs_true_statements should be an array contaning some collection of 1, 2, 3, 4, and 5.",
         "hidden": false,
         "locked": false,
         "points": 1,
         "success_message": "✅ nhs_true_statements seems to represent an array of possible values."
        }
       ],
       "scored": true,
       "setup": "",
       "teardown": "",
       "type": "doctest"
      }
     ]
    },
    "task_3_1_2": {
     "name": "task_3_1_2",
     "points": 4,
     "suites": [
      {
       "cases": [
        {
         "code": ">>> \n>>> type(event_result) in set([np.ndarray])\nTrue",
         "failure_message": "❌ event_result should be an array",
         "hidden": false,
         "locked": false,
         "points": 1,
         "success_message": "✅ event_result is an array"
        },
        {
         "code": ">>> \n>>> len(event_result) == 5\nTrue",
         "failure_message": "❌ event_result should contain 5 items.",
         "hidden": false,
         "locked": false,
         "points": 1,
         "success_message": "✅ event_result contains 5 items."
        },
        {
         "code": ">>> \n>>> [type(i) in set([np.str_, str]) for i in event_result]\n[True, True, True, True, True]",
         "failure_message": "❌ Every element of your list should be a string.",
         "hidden": false,
         "locked": false,
         "points": 1,
         "success_message": "✅ Every element of your list is a string."
        }
       ],
       "scored": true,
       "setup": "",
       "teardown": "",
       "type": "doctest"
      }
     ]
    },
    "task_3_1_3": {
     "name": "task_3_1_3",
     "points": 4,
     "suites": [
      {
       "cases": [
        {
         "code": ">>> \n>>> check_options = [1 if i in ['greater than', 'less than', 'equal to'] else 0 for i in [blank1_1, blank2_1, blank3_1]]\n>>> sum(check_options) == 3\nTrue",
         "failure_message": "❌ Make sure that blank1_1, blank2_1, and blank3_1 are set to one of the following options: 'greater than', 'less than', or 'equal to",
         "hidden": false,
         "locked": false,
         "points": 1,
         "success_message": "✅ You provided possible responses."
        },
        {
         "code": ">>> \n>>> check_options = [1 if i in ['higher', 'lower', 'equal'] else 0 for i in [blank1_2, blank2_2, blank3_2]]\n>>> sum(check_options) == 3\nTrue",
         "failure_message": "❌ Make sure that blank1_2, blank2_2, and blank3_2 are set to one of the following options: 'higher', 'lower', or 'equal'",
         "hidden": false,
         "locked": false,
         "points": 1,
         "success_message": "✅ You provided possible responses."
        }
       ],
       "scored": true,
       "setup": "",
       "teardown": "",
       "type": "doctest"
      }
     ]
    },
    "task_3_1_4": {
     "name": "task_3_1_4",
     "points": 2,
     "suites": [
      {
       "cases": [
        {
         "code": ">>> \n>>> type(relative_risk(NHS)) in set([float, np.float64])\nTrue",
         "failure_message": "❌ relative_risk(NHS) should return a float.",
         "hidden": false,
         "locked": false,
         "points": 1,
         "success_message": "✅ relative_risk(NHS) returns a float."
        },
        {
         "code": ">>> \n>>> np.isclose(round(float(relative_risk(NHS)), 3) - 0.474, 0)\nTrue",
         "failure_message": "❌ relative_risk(NHS) doen't return a reasonable value.",
         "hidden": false,
         "locked": false,
         "points": 1,
         "success_message": "✅ relative_risk(NHS) returns a reasonable value."
        }
       ],
       "scored": true,
       "setup": "",
       "teardown": "",
       "type": "doctest"
      }
     ]
    },
    "task_3_1_5": {
     "name": "task_3_1_5",
     "points": 2,
     "suites": [
      {
       "cases": [
        {
         "code": ">>> \n>>> 0 < min(bootstrap_rrs) <= max(bootstrap_rrs) < 1\nTrue",
         "failure_message": "❌ The values in bootstrap_rrs doen't seem reasonable.",
         "hidden": false,
         "locked": false,
         "points": 1,
         "success_message": "✅ The values in bootstrap_rrs seems reasonable."
        }
       ],
       "scored": true,
       "setup": "",
       "teardown": "",
       "type": "doctest"
      }
     ]
    },
    "task_3_1_6": {
     "name": "task_3_1_6",
     "points": 4,
     "suites": [
      {
       "cases": [
        {
         "code": ">>> \n>>> 0 <= ci_left <= 1\nTrue",
         "failure_message": "❌ ci_left should be betwen 0 and 1, inclusive.",
         "hidden": false,
         "locked": false,
         "points": 1,
         "success_message": "✅ ci_left is betwen 0 and 1, inclusive."
        },
        {
         "code": ">>> \n>>> 0 <= ci_right <= 1\nTrue",
         "failure_message": "❌ ci_right should be betwen 0 and 1, inclusive.",
         "hidden": false,
         "locked": false,
         "points": 1,
         "success_message": "✅ ci_right is betwen 0 and 1, inclusive."
        }
       ],
       "scored": true,
       "setup": "",
       "teardown": "",
       "type": "doctest"
      }
     ]
    },
    "task_3_1_7": {
     "name": "task_3_1_7",
     "points": 2,
     "suites": [
      {
       "cases": [
        {
         "code": ">>> \n>>> # Remember to assign ci_statements to a list!\n>>> type(ci_statements) in set([np.ndarray])\nTrue",
         "failure_message": "❌ ci_statements should be an array",
         "hidden": false,
         "locked": false,
         "points": 1,
         "success_message": "✅ ci_statements is an array."
        }
       ],
       "scored": true,
       "setup": "",
       "teardown": "",
       "type": "doctest"
      }
     ]
    },
    "task_3_2_1": {
     "name": "task_3_2_1",
     "points": 2,
     "suites": [
      {
       "cases": [
        {
         "code": ">>> \n>>> type(good_ts) == np.ndarray\nTrue",
         "failure_message": "❌ good_ts should be an array.",
         "hidden": false,
         "locked": false,
         "points": 1,
         "success_message": "✅ good_ts is an array."
        }
       ],
       "scored": true,
       "setup": "",
       "teardown": "",
       "type": "doctest"
      }
     ]
    },
    "task_3_2_2": {
     "name": "task_3_2_2",
     "points": 2,
     "suites": [
      {
       "cases": [
        {
         "code": ">>> \n>>> type(observed_HERS_test_statistic) in set([float, np.float64])\nTrue",
         "failure_message": "❌ observed_HERS_test_statistic should be a float.",
         "hidden": false,
         "locked": false,
         "points": 1,
         "success_message": "✅ observed_HERS_test_statistic is a float."
        }
       ],
       "scored": true,
       "setup": "",
       "teardown": "",
       "type": "doctest"
      }
     ]
    },
    "task_3_2_3": {
     "name": "task_3_2_3",
     "points": 3,
     "suites": [
      {
       "cases": [
        {
         "code": ">>> \n>>> len(HERS_test_statistics) == 1000\nTrue",
         "failure_message": "❌ HERS_test_statistics should have 1,000 items.",
         "hidden": false,
         "locked": false,
         "points": 1,
         "success_message": "✅ HERS_test_statistics has 1,000 items."
        },
        {
         "code": ">>> \n>>> 0 <= min(HERS_test_statistics) <= 0.055\nTrue",
         "failure_message": "❌ The smallest value in HERS_test_statistics is not in a possible interval.",
         "hidden": false,
         "locked": false,
         "points": 1,
         "success_message": "✅ The smallest value in HERS_test_statistics is in a possible interval."
        }
       ],
       "scored": true,
       "setup": "",
       "teardown": "",
       "type": "doctest"
      }
     ]
    },
    "task_3_2_4": {
     "name": "task_3_2_4",
     "points": 2,
     "suites": [
      {
       "cases": [
        {
         "code": ">>> \n>>> type(HERS_pval) in set([float, np.float64])\nTrue",
         "failure_message": "❌ HERS_pval should represent a float.",
         "hidden": false,
         "locked": false,
         "points": 1,
         "success_message": "✅ HERS_pval is a float."
        }
       ],
       "scored": true,
       "setup": "",
       "teardown": "",
       "type": "doctest"
      }
     ]
    },
    "task_4_2": {
     "name": "task_4_2",
     "points": 6,
     "suites": [
      {
       "cases": [
        {
         "code": ">>> \n>>> summed_mn_data.num_rows == 2\nTrue",
         "failure_message": "❌ summed_mn_data should have 2 rows.",
         "hidden": false,
         "locked": false,
         "points": 1,
         "success_message": "✅ summed_mn_data has 2 rows."
        },
        {
         "code": ">>> \n>>> len(summed_mn_data.labels) == 3\nTrue",
         "failure_message": "❌ summed_mn_data should have 3 columns",
         "hidden": false,
         "locked": false,
         "points": 1,
         "success_message": "✅ summed_mn_data has 3 columns."
        }
       ],
       "scored": true,
       "setup": "",
       "teardown": "",
       "type": "doctest"
      }
     ]
    },
    "task_4_5": {
     "name": "task_4_5",
     "points": 3,
     "suites": [
      {
       "cases": [
        {
         "code": ">>> \n>>> summed_mn_hazard_data.num_rows == 2\nTrue",
         "failure_message": "❌ summed_mn_hazard_data should have 2 rows.",
         "hidden": false,
         "locked": false,
         "points": 1,
         "success_message": "✅ summed_mn_hazard_data has 2 rows."
        },
        {
         "code": ">>> \n>>> len(summed_mn_hazard_data.labels) == 4\nTrue",
         "failure_message": "❌ summed_mn_hazard_data should have 4 columns.",
         "hidden": false,
         "locked": false,
         "points": 1,
         "success_message": "✅ summed_mn_hazard_data has 4 columns."
        }
       ],
       "scored": true,
       "setup": "",
       "teardown": "",
       "type": "doctest"
      }
     ]
    },
    "task_4_6": {
     "name": "task_4_6",
     "points": 2,
     "suites": [
      {
       "cases": [
        {
         "code": ">>> \n>>> type(death_rate_observed_statistic) in set([float, np.float64])\nTrue",
         "failure_message": "❌ death_rate_observed_statistic should be a float.",
         "hidden": false,
         "locked": false,
         "points": 1,
         "success_message": "✅ death_rate_observed_statistic is a float."
        }
       ],
       "scored": true,
       "setup": "",
       "teardown": "",
       "type": "doctest"
      }
     ]
    },
    "task_4_7": {
     "name": "task_4_7",
     "points": 2,
     "suites": [
      {
       "cases": [
        {
         "code": ">>> \n>>> type(our_p_value) in set([float, np.float64])\nTrue",
         "failure_message": "❌ our_p_value should be a float.",
         "hidden": false,
         "locked": false,
         "points": 1,
         "success_message": "✅ our_p_value is a float."
        },
        {
         "code": ">>> \n>>> 0 < our_p_value < 1\nTrue",
         "failure_message": "❌ our_p_value should be between 0 and 1.",
         "hidden": false,
         "locked": false,
         "points": 1,
         "success_message": "✅ our_p_value is a possible value."
        }
       ],
       "scored": true,
       "setup": "",
       "teardown": "",
       "type": "doctest"
      }
     ]
    },
    "task_4_8": {
     "name": "task_4_8",
     "points": 2,
     "suites": [
      {
       "cases": [
        {
         "code": ">>> \n>>> reject_null in make_array(True, False)\nTrue",
         "failure_message": "❌ reject_null is not a possible value.",
         "hidden": false,
         "locked": false,
         "points": 1,
         "success_message": "✅ reject_null is a possible value."
        }
       ],
       "scored": true,
       "setup": "",
       "teardown": "",
       "type": "doctest"
      }
     ]
    }
   }
  },
  "toc": {
   "base_numbering": 1,
   "nav_menu": {},
   "number_sections": false,
   "sideBar": true,
   "skip_h1_title": false,
   "title_cell": "Table of Contents",
   "title_sidebar": "Contents",
   "toc_cell": false,
   "toc_position": {},
   "toc_section_display": true,
   "toc_window_display": false
  }
 },
 "nbformat": 4,
 "nbformat_minor": 4
}
